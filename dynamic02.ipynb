{
  "nbformat": 4,
  "nbformat_minor": 0,
  "metadata": {
    "colab": {
      "provenance": []
    },
    "kernelspec": {
      "name": "python3",
      "display_name": "Python 3"
    },
    "language_info": {
      "name": "python"
    }
  },
  "cells": [
    {
      "cell_type": "code",
      "execution_count": null,
      "metadata": {
        "id": "J1XxaZzZKBtX"
      },
      "outputs": [],
      "source": [
        "# 정수 삼각형\n",
        "\n",
        "def solution(triangle):\n",
        "    # dp 테이블 초기화\n",
        "    # 삼각형과 같은 모양과 크기의 DP 테이블을 생성하고 모든 값을 0으로 초기화합니다.\n",
        "    dp = [[0] * len(triangle) for _ in range(len(triangle))]\n",
        "\n",
        "    # 삼각형의 꼭대기 값으로 DP 테이블의 시작점을 초기화합니다.\n",
        "    dp[0][0] = triangle[0][0]\n",
        "\n",
        "    # 거쳐간 숫자의 최댓값 구하기\n",
        "    # 삼각형의 꼭대기부터 바닥까지 각 단계별로 순회합니다.\n",
        "    for i in range(0, len(triangle) - 1):\n",
        "        for j in range(len(triangle[i])):\n",
        "            # 현재 위치에서 바로 아래 위치로 이동하는 경우\n",
        "            dp[i + 1][j] = max(dp[i + 1][j], dp[i][j] + triangle[i + 1][j])\n",
        "            # 현재 위치에서 바로 아래 오른쪽 위치로 이동하는 경우\n",
        "            dp[i + 1][j + 1] = max(dp[i + 1][j + 1], dp[i][j] + triangle[i + 1][j + 1])\n",
        "\n",
        "    # 마지막 단계에서의 최댓값을 반환합니다.\n",
        "    return max(dp[-1])"
      ]
    }
  ]
}