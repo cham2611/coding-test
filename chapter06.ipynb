{
  "nbformat": 4,
  "nbformat_minor": 0,
  "metadata": {
    "colab": {
      "provenance": []
    },
    "kernelspec": {
      "name": "python3",
      "display_name": "Python 3"
    },
    "language_info": {
      "name": "python"
    }
  },
  "cells": [
    {
      "cell_type": "code",
      "execution_count": 9,
      "metadata": {
        "colab": {
          "base_uri": "https://localhost:8080/"
        },
        "id": "CI_wF2wsbc1L",
        "outputId": "321b438e-3775-429c-a8ee-ef395c621535"
      },
      "outputs": [
        {
          "output_type": "stream",
          "name": "stdout",
          "text": [
            "[0, 1, 2, 3, 4, 5, 6, 7, 8, 9]\n"
          ]
        }
      ],
      "source": [
        "# 선택 정렬 소스코드\n",
        "# 가장 작은 데이터를 앞으로 보내는 과정을 N-1번 반복하면 정렬이 완료된다\n",
        "# 6-1 선택 정렬 소스코드\n",
        "\n",
        "array=[7,5,9,0,3,1,6,2,4,8]\n",
        "\n",
        "for i in range(len(array)):\n",
        "  min_index=i # 가장 작은 원소의 인덱스\n",
        "  for j in range(i+1,len(array)):\n",
        "    if array[min_index] > array[j]:\n",
        "      min_index=j\n",
        "  array[i],array[min_index]=array[min_index],array[i]\n",
        "\n",
        "\n",
        "print(array)"
      ]
    },
    {
      "cell_type": "code",
      "source": [
        "# 6-2 파이썬 스와프 소스코드\n",
        "\n",
        "#0 인덱스와 1인덱스의 원소 교체하기\n",
        "array=[3,5]\n",
        "array[0],array[1]=array[1],array[0]\n",
        "\n",
        "print(array)"
      ],
      "metadata": {
        "colab": {
          "base_uri": "https://localhost:8080/"
        },
        "id": "jKQzE8kW_vEn",
        "outputId": "98e1b660-e0f3-4631-ce1b-e319a77b97d5"
      },
      "execution_count": 1,
      "outputs": [
        {
          "output_type": "stream",
          "name": "stdout",
          "text": [
            "[5, 3]\n"
          ]
        }
      ]
    },
    {
      "cell_type": "code",
      "source": [
        "# 6-3 삽입 정렬 소스 코드/ 삽입 정렬 : 특정한 데이터를 적절한 위치에 삽입한다는 의미\n",
        "\n",
        "array=[7,5,9,0,3,1,6,2,4,8]\n",
        "\n",
        "for i in range(1, len(array)):\n",
        "  for j in range(i,0,-1):\n",
        "    if array[j] < array[j-1]:\n",
        "       array[j], array[j-1]= array[j-1], array[j]\n",
        "    else:\n",
        "      break\n",
        "print(array)\n"
      ],
      "metadata": {
        "colab": {
          "base_uri": "https://localhost:8080/"
        },
        "id": "e-278wauAlEc",
        "outputId": "9d1c0d9e-c412-4c9a-d2b1-e565c15e3a0c"
      },
      "execution_count": 33,
      "outputs": [
        {
          "output_type": "stream",
          "name": "stdout",
          "text": [
            "[0, 1, 2, 3, 4, 5, 6, 7, 8, 9]\n"
          ]
        }
      ]
    },
    {
      "cell_type": "code",
      "source": [
        "# 6-4 퀵 정렬 소스코드\n",
        "\n",
        "array = [5, 7, 9, 0, 3, 1, 6, 2, 4, 8]\n",
        "\n",
        "def quick_sort(array, start, end):\n",
        "    if start >= end: # 원소가 1개인 경우 종료\n",
        "        return\n",
        "    pivot = start # 피벗은 첫 번째 원소\n",
        "    left = start + 1\n",
        "    right = end\n",
        "    while(left <= right):\n",
        "        # 피벗보다 큰 데이터를 찾을 때까지 반복\n",
        "        while(left <= end and array[left] <= array[pivot]):\n",
        "            left += 1\n",
        "        # 피벗보다 작은 데이터를 찾을 때까지 반복\n",
        "        while(right > start and array[right] >= array[pivot]):\n",
        "            right -= 1\n",
        "        if(left > right): # 엇갈렸다면 작은 데이터와 피벗을 교체\n",
        "            array[right], array[pivot] = array[pivot], array[right]\n",
        "        else: # 엇갈리지 않았다면 작은 데이터와 큰 데이터를 교체\n",
        "            array[left], array[right] = array[right], array[left]\n",
        "    # 분할 이후 왼쪽 부분과 오른쪽 부분에서 각각 정렬 수행\n",
        "    quick_sort(array, start, right - 1)\n",
        "    quick_sort(array, right + 1, end)\n",
        "\n",
        "quick_sort(array, 0, len(array) - 1)\n",
        "print(array)\n",
        "\n"
      ],
      "metadata": {
        "colab": {
          "base_uri": "https://localhost:8080/"
        },
        "id": "2yhhPAdrBGqr",
        "outputId": "0fc56fe6-5d7d-4e5f-90ec-4e421559913d"
      },
      "execution_count": 36,
      "outputs": [
        {
          "output_type": "stream",
          "name": "stdout",
          "text": [
            "[0, 1, 2, 3, 4, 5, 6, 7, 8, 9]\n"
          ]
        }
      ]
    },
    {
      "cell_type": "code",
      "source": [
        "# 6-5 파이썬의 장점을 살린 퀵 정렬 소스코드\n",
        "\n",
        "array=[5,7,9,0,3,1,6,2,4,8]\n",
        "\n",
        "def quick_sort(array):\n",
        "  #라스트 하나 이하의 원소만 담고 있다면 종료\n",
        "  if len(array) <= 1:\n",
        "    return array\n",
        "\n",
        "  pivot= array[0] # 피벗은 첫번째 원소\n",
        "  tail= array[1:] # 피벗을 제외한 리스트\n",
        "\n",
        "  left_side= [x for x in tail if x <= pivot]\n",
        "  right_side= [x for x in tail if x > pivot]\n",
        "\n",
        "  #분할 이후 왼쪽 부분과 오른쪽 부분에서 각각 정렬을 수행하고, 전체 리스트를 반환\n",
        "  return quick_sort(left_side) + [pivot] + quick_sort(right_side)\n",
        "\n",
        "\n",
        "print(quick_sort(array))\n"
      ],
      "metadata": {
        "colab": {
          "base_uri": "https://localhost:8080/"
        },
        "id": "1s2nGho6BG4s",
        "outputId": "66546687-fbcf-4f97-b9f8-dd7d0787f275"
      },
      "execution_count": 35,
      "outputs": [
        {
          "output_type": "stream",
          "name": "stdout",
          "text": [
            "[0, 1, 2, 3, 4, 5, 6, 7, 8, 9]\n"
          ]
        }
      ]
    },
    {
      "cell_type": "code",
      "source": [
        "# 계수 정렬 : 특정한 조건이 부합할 때만 사용할 수 있지만 매우 빠른 정려 알고리즘\n",
        "# 6-6 계수 정렬 소스코드\n",
        "\n",
        "array =[7,5,9,0,3,1,6,2,9,1,4,8,0,5,2]\n",
        "\n",
        "count= [0]*(max(array)+1)\n",
        "\n",
        "for i in range(len(array)):\n",
        "  count[array[i]]+=1\n",
        "\n",
        "for i in range(len(count)):\n",
        "  for j in range(count[i]):\n",
        "    print(i ,end=' ')\n"
      ],
      "metadata": {
        "colab": {
          "base_uri": "https://localhost:8080/"
        },
        "id": "_0OflCAvBHLO",
        "outputId": "0b557b1c-ab90-4525-9f3a-0f4c4040495c"
      },
      "execution_count": 11,
      "outputs": [
        {
          "output_type": "stream",
          "name": "stdout",
          "text": [
            "0 0 1 1 2 2 3 4 5 5 6 7 8 9 9 "
          ]
        }
      ]
    },
    {
      "cell_type": "code",
      "source": [
        "# 6-7 sorted 소스코드\n",
        "#sorted의 경우 반환값으로 정렬된 새로운 리스트\n",
        "array=[7,5,9,0,3,1,6,2,4,8]\n",
        "\n",
        "result=sorted(array)\n",
        "print(result)"
      ],
      "metadata": {
        "colab": {
          "base_uri": "https://localhost:8080/"
        },
        "id": "-TXVbs22BHby",
        "outputId": "80a6daae-b337-435d-e46b-96845dd1cd98"
      },
      "execution_count": 18,
      "outputs": [
        {
          "output_type": "stream",
          "name": "stdout",
          "text": [
            "[0, 1, 2, 3, 4, 5, 6, 7, 8, 9]\n"
          ]
        }
      ]
    },
    {
      "cell_type": "code",
      "source": [
        "# 6-8 sort 소스코드\n",
        "#sort의 경우 반환값이 없이 해당 리스트 자체를 다시 정렬\n",
        "array=[7,5,9,0,3,1,6,2,4,8]\n",
        "\n",
        "array.sort()\n",
        "print(array)"
      ],
      "metadata": {
        "colab": {
          "base_uri": "https://localhost:8080/"
        },
        "id": "TlVveKFTBNsa",
        "outputId": "4f4f4265-17ee-4964-f2fb-49ab3171ddb6"
      },
      "execution_count": 24,
      "outputs": [
        {
          "output_type": "stream",
          "name": "stdout",
          "text": [
            "[0, 1, 2, 3, 4, 5, 6, 7, 8, 9]\n"
          ]
        }
      ]
    },
    {
      "cell_type": "code",
      "source": [
        "array=[('바나나',2),('사과',5),('당근',3)]\n",
        "\n",
        "result= sorted(array, key = lambda data: data[1])\n",
        "print(result)"
      ],
      "metadata": {
        "colab": {
          "base_uri": "https://localhost:8080/"
        },
        "id": "7uanOMQvBRGU",
        "outputId": "7a478f48-1eb9-4a6b-8253-bc0accb626fb"
      },
      "execution_count": 28,
      "outputs": [
        {
          "output_type": "stream",
          "name": "stdout",
          "text": [
            "[('바나나', 2), ('당근', 3), ('사과', 5)]\n"
          ]
        }
      ]
    },
    {
      "cell_type": "code",
      "source": [
        "# 6-10 위에서 아래로\n",
        "\n",
        "n= int(input())\n",
        "\n",
        "array=[]\n",
        "for i in range(n):\n",
        "  array.append(int(input()))\n",
        "\n",
        "#파이썬 기본 정렬 라이브러리를 이용하여 정렬 수행\n",
        "array=sorted(array, reverse=True) # 내림차순\n",
        "\n",
        "for i in range(len(array)):\n",
        "  print(array[i], end=' ')\n"
      ],
      "metadata": {
        "colab": {
          "base_uri": "https://localhost:8080/"
        },
        "id": "5Z2rzWK2CZMB",
        "outputId": "13632968-3891-4e68-e113-3eb303f61d3f"
      },
      "execution_count": 23,
      "outputs": [
        {
          "output_type": "stream",
          "name": "stdout",
          "text": [
            "3\n",
            "15\n",
            "27\n",
            "12\n",
            "27 15 12 "
          ]
        }
      ]
    },
    {
      "cell_type": "code",
      "source": [
        "# 6-11 성적이 낮은 순서로 학생 출력하기\n",
        "n= int(input())\n",
        "\n",
        "array=[]\n",
        "for i in range(n):\n",
        "  input_data=input().split()\n",
        "  array.append((input_data[0],int(input_data[1])))\n",
        "\n",
        "# 키를 이용하여 점수를 기준으로 정렬 / lambda 매개변수 : 표현식 array가 studnet에 할당\n",
        "array = sorted(array, key = lambda student: student[1])\n",
        "\n",
        "#정렬이 수행된 결과를 출력\n",
        "for j in array:\n",
        "  print(j[0] ,end=' ')"
      ],
      "metadata": {
        "colab": {
          "base_uri": "https://localhost:8080/"
        },
        "id": "713XJO71DtRa",
        "outputId": "c107be7f-6ede-43c8-acca-cf3580c9b1ed"
      },
      "execution_count": 27,
      "outputs": [
        {
          "output_type": "stream",
          "name": "stdout",
          "text": [
            "2\n",
            "홍길동 95\n",
            "이순신 77\n",
            "이순신 홍길동 "
          ]
        }
      ]
    },
    {
      "cell_type": "code",
      "source": [
        "# 6-12 두 배열의 원소 교체\n",
        "\n",
        "n,k = map(int,input().split())\n",
        "a= list(map(int,input().split()))\n",
        "b= list(map(int,input().split()))\n",
        "\n",
        "a.sort() # 오름차순\n",
        "b.sort(reverse=True) # 내림차순\n",
        "\n",
        "for i in range(k):\n",
        "  if a[i] < b[i]:\n",
        "    a[i], b[i]=b[i], a[i]\n",
        "  else:\n",
        "    break\n",
        "\n",
        "print(sum(a))"
      ],
      "metadata": {
        "colab": {
          "base_uri": "https://localhost:8080/"
        },
        "id": "XKpSPR9tDtX0",
        "outputId": "96dfce11-fbf9-4a03-e9c1-65716be7a791"
      },
      "execution_count": 32,
      "outputs": [
        {
          "output_type": "stream",
          "name": "stdout",
          "text": [
            "5 3\n",
            "1 2 5 4 3\n",
            "5 5 6 6 5\n",
            "26\n"
          ]
        }
      ]
    }
  ]
}