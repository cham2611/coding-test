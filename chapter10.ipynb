{
  "nbformat": 4,
  "nbformat_minor": 0,
  "metadata": {
    "colab": {
      "provenance": []
    },
    "kernelspec": {
      "name": "python3",
      "display_name": "Python 3"
    },
    "language_info": {
      "name": "python"
    }
  },
  "cells": [
    {
      "cell_type": "code",
      "execution_count": 4,
      "metadata": {
        "colab": {
          "base_uri": "https://localhost:8080/"
        },
        "id": "lwi06w_GMULn",
        "outputId": "a51a4c3c-6de9-4ae2-b91e-ce308552f3d2"
      },
      "outputs": [
        {
          "output_type": "stream",
          "name": "stdout",
          "text": [
            "6 4\n",
            "1 4\n",
            "2 3\n",
            "2 4\n",
            "5 6\n",
            "각 원소가 속한 집합: 1 1 1 1 5 5 \n",
            "부모 테이블: 1 1 2 1 5 5 "
          ]
        }
      ],
      "source": [
        "# 서로소 집합 : 공통 원소가 없는 두 집합 즉  겹치지 않게 집합을 나누는 자료구조\n",
        "# union연산 : 두 원소를 하나의 집합으로 묶는다.\n",
        "# find연산 : 해당 원소가 어떤집합에 속하는지를 찾아준다.\n",
        "# 트리 자료구조를 사용하여 동일한 루트로 묶는것으로 집합을 나누게 된다.\n",
        "# union 연산 : 두 원소의 루트 중 작은원소를 루트로 삼아 묶는다.\n",
        "# find연산 : 해당 원소의 루트 원소를 반환한다.\n",
        "\n",
        "# 10-1\n",
        "\n",
        "# 특정 원소가 속한 집합을 찾기\n",
        "def find_parent(parent, x):\n",
        "    # 루트 노드가 아니라면, 루트 노드를 찾을 때까지 재귀적으로 호출\n",
        "    if parent[x] != x:\n",
        "        return find_parent(parent, parent[x])\n",
        "    return x\n",
        "\n",
        "# 두 원소가 속한 집합을 합치기\n",
        "def union_parent(parent, a, b):\n",
        "    a = find_parent(parent, a)\n",
        "    b = find_parent(parent, b)\n",
        "    if a < b:\n",
        "        parent[b] = a\n",
        "    else:\n",
        "        parent[a] = b\n",
        "\n",
        "# 노드의 개수와 간선(Union 연산)의 개수 입력 받기\n",
        "v, e = map(int, input().split())\n",
        "parent = [0] * (v + 1) # 부모 테이블 초기화하기\n",
        "\n",
        "# 부모 테이블상에서, 부모를 자기 자신으로 초기화\n",
        "for i in range(1, v + 1):\n",
        "    parent[i] = i\n",
        "\n",
        "# Union 연산을 각각 수행\n",
        "for i in range(e):\n",
        "    a, b = map(int, input().split())\n",
        "    union_parent(parent, a, b)\n",
        "\n",
        "# 각 원소가 속한 집합 출력하기\n",
        "print('각 원소가 속한 집합: ', end='')\n",
        "for i in range(1, v + 1):\n",
        "    print(find_parent(parent, i), end=' ')\n",
        "\n",
        "print()\n",
        "\n",
        "# 부모 테이블 내용 출력하기\n",
        "print('부모 테이블: ', end='')\n",
        "for i in range(1, v + 1):\n",
        "    print(parent[i], end=' ')"
      ]
    },
    {
      "cell_type": "code",
      "source": [
        "# 10-2 경로 압축 기법 소스 코드\n",
        "\n",
        "def find_parent(parent,x):\n",
        "  if parent[x] !=x:\n",
        "    parent[x]=find_parent, parent[x]\n",
        "  return parent[x]\n"
      ],
      "metadata": {
        "id": "ATlesmnt445v"
      },
      "execution_count": null,
      "outputs": []
    },
    {
      "cell_type": "code",
      "source": [
        "# 10-3 개선된 서로 집합 알고리즘 소스코드\n",
        "# 특정 원소가 속한 집합을 찾기\n",
        "def find_parent(parent, x):\n",
        "    # 루트 노드가 아니라면, 루트 노드를 찾을 때까지 재귀적으로 호출\n",
        "    if parent[x] != x:\n",
        "        parent[x] = find_parent(parent, parent[x])\n",
        "    return parent[x]\n",
        "\n",
        "# 두 원소가 속한 집합을 합치기\n",
        "def union_parent(parent, a, b):\n",
        "    a = find_parent(parent, a)\n",
        "    b = find_parent(parent, b)\n",
        "    if a < b:\n",
        "        parent[b] = a\n",
        "    else:\n",
        "        parent[a] = b\n",
        "\n",
        "# 노드의 개수와 간선(Union 연산)의 개수 입력 받기\n",
        "v, e = map(int, input().split())\n",
        "parent = [0] * (v + 1) # 부모 테이블 초기화하기\n",
        "\n",
        "# 부모 테이블상에서, 부모를 자기 자신으로 초기화\n",
        "for i in range(1, v + 1):\n",
        "    parent[i] = i\n",
        "\n",
        "# Union 연산을 각각 수행\n",
        "for i in range(e):\n",
        "    a, b = map(int, input().split())\n",
        "    union_parent(parent, a, b)\n",
        "\n",
        "# 각 원소가 속한 집합 출력하기\n",
        "print('각 원소가 속한 집합: ', end='')\n",
        "for i in range(1, v + 1):\n",
        "    print(find_parent(parent, i), end=' ')\n",
        "\n",
        "print()\n",
        "\n",
        "# 부모 테이블 내용 출력하기\n",
        "print('부모 테이블: ', end='')\n",
        "for i in range(1, v + 1):\n",
        "    print(parent[i], end=' ')\n"
      ],
      "metadata": {
        "colab": {
          "base_uri": "https://localhost:8080/"
        },
        "id": "v7Y2QDaI44_g",
        "outputId": "fb703b09-432e-4090-e86e-6ccb7b8722aa"
      },
      "execution_count": 5,
      "outputs": [
        {
          "output_type": "stream",
          "name": "stdout",
          "text": [
            "6 4\n",
            "1 4\n",
            "2 3\n",
            "2 4\n",
            "5 6\n",
            "각 원소가 속한 집합: 1 1 1 1 5 5 \n",
            "부모 테이블: 1 1 1 1 5 5 "
          ]
        }
      ]
    },
    {
      "cell_type": "code",
      "source": [
        "# 서로소 집합을 활용한 사이클 판별 소스코드\n",
        "# 서로소 집합은 무방항 그래프 내에서의 사이클을 판별할 때 사용할 수 있다\n",
        "# 참고로 방향 그래프에서의 사이클 여부는 DFS를 이용하여 판별할 수 있다\n",
        "\n",
        "# 10-4\n",
        "\n",
        "# 특정 원소가 속한 집합을 찾기\n",
        "def find_parent(parent, x):\n",
        "    # 루트 노드가 아니라면, 루트 노드를 찾을 때까지 재귀적으로 호출\n",
        "    if parent[x] != x:\n",
        "        parent[x] = find_parent(parent, parent[x])\n",
        "    return parent[x]\n",
        "\n",
        "# 두 원소가 속한 집합을 합치기\n",
        "def union_parent(parent, a, b):\n",
        "    a = find_parent(parent, a)\n",
        "    b = find_parent(parent, b)\n",
        "    if a < b:\n",
        "        parent[b] = a\n",
        "    else:\n",
        "        parent[a] = b\n",
        "\n",
        "# 노드의 개수와 간선(Union 연산)의 개수 입력 받기\n",
        "v, e = map(int, input().split())\n",
        "parent = [0] * (v + 1) # 부모 테이블 초기화하기\n",
        "\n",
        "# 부모 테이블상에서, 부모를 자기 자신으로 초기화\n",
        "for i in range(1, v + 1):\n",
        "    parent[i] = i\n",
        "\n",
        "cycle = False # 사이클 발생 여부\n",
        "\n",
        "for i in range(e):\n",
        "    a, b = map(int, input().split())\n",
        "    # 사이클이 발생한 경우 종료\n",
        "    if find_parent(parent, a) == find_parent(parent, b):\n",
        "        cycle = True\n",
        "        break\n",
        "    # 사이클이 발생하지 않았다면 합집합(Union) 연산 수행\n",
        "    else:\n",
        "        union_parent(parent, a, b)\n",
        "\n",
        "if cycle:\n",
        "    print(\"사이클이 발생했습니다.\")\n",
        "else:\n",
        "    print(\"사이클이 발생하지 않았습니다.\")\n"
      ],
      "metadata": {
        "colab": {
          "base_uri": "https://localhost:8080/"
        },
        "id": "9UaMmYnV45Cc",
        "outputId": "21147828-256d-4f86-9e3d-defe32c590d7"
      },
      "execution_count": 6,
      "outputs": [
        {
          "output_type": "stream",
          "name": "stdout",
          "text": [
            "3 3\n",
            "1 2\n",
            "1 3\n",
            "2 3\n",
            "사이클이 발생했습니다.\n"
          ]
        }
      ]
    },
    {
      "cell_type": "code",
      "source": [
        "# 크루스칼 알고리즘 : 최소 신장 트리 알고리즘\n",
        "# 신장트리란 모든 노드를 포함하며 사이클이 존재하지 않는 부분 그래프\n",
        "# 사이클 없이 모든 노드를 연결하는 간선을 선택하는 기준이 보통 최소비용의 간선을 통해 생성된다.\n",
        "# 즉, 비용을 기준으로 간선을 정렬하여 가장 적은값의 간선부터 차례로 사이클 발생 여부를 확인하며 연결\n",
        "\n",
        "# 10-5\n",
        "\n",
        "# 특정 원소가 속한 집합을 찾기\n",
        "def find_parent(parent, x):\n",
        "    # 루트 노드가 아니라면, 루트 노드를 찾을 때까지 재귀적으로 호출\n",
        "    if parent[x] != x:\n",
        "        parent[x] = find_parent(parent, parent[x])\n",
        "    return parent[x]\n",
        "\n",
        "# 두 원소가 속한 집합을 합치기\n",
        "def union_parent(parent, a, b):\n",
        "    a = find_parent(parent, a)\n",
        "    b = find_parent(parent, b)\n",
        "    if a < b:\n",
        "        parent[b] = a\n",
        "    else:\n",
        "        parent[a] = b\n",
        "\n",
        "# 노드의 개수와 간선(Union 연산)의 개수 입력 받기\n",
        "v, e = map(int, input().split())\n",
        "parent = [0] * (v + 1) # 부모 테이블 초기화하기\n",
        "\n",
        "# 모든 간선을 담을 리스트와, 최종 비용을 담을 변수\n",
        "edges = []\n",
        "result = 0\n",
        "\n",
        "# 부모 테이블상에서, 부모를 자기 자신으로 초기화\n",
        "for i in range(1, v + 1):\n",
        "    parent[i] = i\n",
        "\n",
        "# 모든 간선에 대한 정보를 입력 받기\n",
        "for _ in range(e):\n",
        "    a, b, cost = map(int, input().split())\n",
        "    # 비용순으로 정렬하기 위해서 튜플의 첫 번째 원소를 비용으로 설정\n",
        "    edges.append((cost, a, b))\n",
        "\n",
        "# 간선을 비용순으로 정렬\n",
        "edges.sort()\n",
        "\n",
        "# 간선을 하나씩 확인하며\n",
        "for edge in edges:\n",
        "    cost, a, b = edge\n",
        "    # 사이클이 발생하지 않는 경우에만 집합에 포함\n",
        "    if find_parent(parent, a) != find_parent(parent, b):\n",
        "        union_parent(parent, a, b)\n",
        "        result += cost\n",
        "\n",
        "print(result)"
      ],
      "metadata": {
        "colab": {
          "base_uri": "https://localhost:8080/"
        },
        "id": "oM_c5lLM45En",
        "outputId": "74f52a9d-bdd1-412f-cb64-66fa8816c37d"
      },
      "execution_count": 2,
      "outputs": [
        {
          "output_type": "stream",
          "name": "stdout",
          "text": [
            "7 9\n",
            "1 2 29\n",
            "1 5 75\n",
            "2 3 35\n",
            "2 6 34\n",
            "3 4 7\n",
            "4 6 23\n",
            "4 7 13\n",
            "5 6 53\n",
            "6 7 25\n",
            "159\n"
          ]
        }
      ]
    },
    {
      "cell_type": "code",
      "source": [
        "# 위상 정렬 : 방향 그래프의 모든 노드를 방향상에 거스르지 않도록 순서대로 나열하는 것이다\n",
        "# 진입차수 개념이 필요하다.\n",
        "# 진입차수는 특정 노드로 도착하는 간선의 개수이다.\n",
        "# 이를 통해 시작노드는 진입차수가 0개이다. 이 노드를 시작점으로 큐에 넣어 시작한다\n",
        "# 큐에서 노드를 꺼내어 해당 노드에 연결된 간선을 삭제하며 진입차수가 0개가 되는 노드를 큐에 넣는식으로 구현된다.\n",
        "# 두가지 이상의 노드가 0이 되는 경우는 노드값이 작은 노드를 먼저 방문하는 식으로 구현\n",
        "\n",
        "# 10-6\n",
        "\n",
        "from collections import deque\n",
        "\n",
        "# 노드의 개수와 간선의 개수를 입력 받기\n",
        "v, e = map(int, input().split())\n",
        "# 모든 노드에 대한 진입차수는 0으로 초기화\n",
        "indegree = [0] * (v + 1)\n",
        "# 각 노드에 연결된 간선 정보를 담기 위한 연결 리스트 초기화\n",
        "graph = [[] for i in range(v + 1)]\n",
        "\n",
        "# 방향 그래프의 모든 간선 정보를 입력 받기\n",
        "for _ in range(e):\n",
        "    a, b = map(int, input().split())\n",
        "    graph[a].append(b) # 정점 A에서 B로 이동 가능\n",
        "    # 진입 차수를 1 증가\n",
        "    indegree[b] += 1\n",
        "\n",
        "# 위상 정렬 함수\n",
        "def topology_sort():\n",
        "    result = [] # 알고리즘 수행 결과를 담을 리스트\n",
        "    q = deque() # 큐 기능을 위한 deque 라이브러리 사용\n",
        "\n",
        "    # 처음 시작할 때는 진입차수가 0인 노드를 큐에 삽입\n",
        "    for i in range(1, v + 1):\n",
        "        if indegree[i] == 0:\n",
        "            q.append(i)\n",
        "\n",
        "    # 큐가 빌 때까지 반복\n",
        "    while q:\n",
        "        # 큐에서 원소 꺼내기\n",
        "        now = q.popleft()\n",
        "        result.append(now)\n",
        "        # 해당 원소와 연결된 노드들의 진입차수에서 1 빼기\n",
        "        for i in graph[now]:\n",
        "            indegree[i] -= 1\n",
        "            # 새롭게 진입차수가 0이 되는 노드를 큐에 삽입\n",
        "            if indegree[i] == 0:\n",
        "                q.append(i)\n",
        "\n",
        "    # 위상 정렬을 수행한 결과 출력\n",
        "    for i in result:\n",
        "        print(i, end=' ')\n",
        "\n",
        "topology_sort()\n"
      ],
      "metadata": {
        "colab": {
          "base_uri": "https://localhost:8080/"
        },
        "id": "jMzuLQnC45G9",
        "outputId": "446a692f-592e-487f-ab2b-e3297e88d718"
      },
      "execution_count": 1,
      "outputs": [
        {
          "output_type": "stream",
          "name": "stdout",
          "text": [
            " 7 8\n",
            "1 2\n",
            "1 5\n",
            "2 3\n",
            "2 6\n",
            "3 4\n",
            "4 7\n",
            "5 6\n",
            "6 4\n",
            "1 2 5 3 6 4 7 "
          ]
        }
      ]
    },
    {
      "cell_type": "code",
      "source": [
        "# 10-7 팀 결성\n",
        "\n",
        "# 특정 원소가 속하 집합을 찾기\n",
        "def find_parent(parent, x) :\n",
        "  # 루트 노드가 아니라면, 루트 노드를 찾을 때까지 재귀적으로 호출\n",
        "  if parent[x] != x :\n",
        "    parent[x] = find_parent(parent, parent[x])\n",
        "  return parent[x]\n",
        "\n",
        "# 두 원소가 속한 집합을 합치기\n",
        "def union_parent(parent, a, b) :\n",
        "  a = find_parent(parent, a)\n",
        "  b = find_parent(parent, b)\n",
        "  if a < b :\n",
        "    parent[b] = a\n",
        "  else :\n",
        "    parent[a] = b\n",
        "\n",
        "n, m = map(int, input().split())\n",
        "parent = [0] * (n + 1)\n",
        "\n",
        "# 부모 테이블상에서, 부모를 자기 자신으로 초기화\n",
        "for i in range(0, n + 1) :\n",
        "  parent[i] = i\n",
        "\n",
        "# 각 연산을 하나씩 확인\n",
        "for i in range(m) :\n",
        "  oper, a, b = map(int, input().split())\n",
        "  #합집합 연산인 경우\n",
        "  if oper == 0 :\n",
        "    union_parent(parent, a, b)\n",
        "  # 찾기 연산인 경우\n",
        "  elif oper == 1 :\n",
        "    if find_parent(parent, a) == find_parent(parent, b) :\n",
        "      print('YES')\n",
        "    else :\n",
        "      print('NO')"
      ],
      "metadata": {
        "colab": {
          "base_uri": "https://localhost:8080/"
        },
        "id": "wpKW9b3f45JG",
        "outputId": "fed0ab6d-29d3-462e-cbbc-1dbeb4805973"
      },
      "execution_count": 10,
      "outputs": [
        {
          "output_type": "stream",
          "name": "stdout",
          "text": [
            "7 8\n",
            "0 1 3\n",
            "1 1 7\n",
            "NO\n",
            "0 7 6\n",
            "1 7 1\n",
            "NO\n",
            "0 3 7\n",
            "0 4 2\n",
            "0 1 1\n",
            "1 1 1\n",
            "YES\n"
          ]
        }
      ]
    },
    {
      "cell_type": "code",
      "source": [
        "# 10-8 도시 분할 계획\n",
        "\n",
        "# 특정 원소가 속한 집합을 찾기\n",
        "def find_house(parent, x):\n",
        "    if parent[x] != x:\n",
        "        parent[x] = find_house(parent, parent[x])\n",
        "    return parent[x]\n",
        "\n",
        "# 두 원소가 속한 집합을 합치기\n",
        "def union_house(parent, a, b):\n",
        "    a = find_house(parent, a)\n",
        "    b = find_house(parent, b)\n",
        "    if a < b:\n",
        "        parent[b] = a\n",
        "    else:\n",
        "        parent[a] = b\n",
        "\n",
        "# 노드, 간선의 개수\n",
        "N, M = map(int, input().split())''\n",
        "# 부모 테이블 선언 후 자기 자신으로 초기화\n",
        "parent = [0] * (N + 1)\n",
        "for i in range(1, N+1):\n",
        "    parent[i] = i\n",
        "\n",
        "# 모든 간선을 담을 리스트와 최종 비용을 담을 변수\n",
        "edges = []\n",
        "result = 0\n",
        "\n",
        "# 간선 데이터\n",
        "for i in range(M):\n",
        "    A, B, C = map(int, input().split())\n",
        "    edges.append((C, A, B))\n",
        "# 간선을 비용순으로 정렬\n",
        "edges.sort()\n",
        "\n",
        "# 최소 신장 트리에 포함되는 간선 중에서 가장 비용이 큰 간선\n",
        "last = 0\n",
        "\n",
        "# 비용이 작은 간선부터 하나씩 확인\n",
        "for edge in edges:\n",
        "    C, A, B = edge\n",
        "    # 사이클이 발생하지 않는 경우(다른 집합인 경우) 집합에 포함하고 비용 증가\n",
        "    if find_house(parent, A) != find_house(parent, B):\n",
        "        union_house(parent, A, B)\n",
        "        result += C\n",
        "        last = C\n",
        "\n",
        "print(result - last)\n"
      ],
      "metadata": {
        "colab": {
          "base_uri": "https://localhost:8080/"
        },
        "id": "wokZAlXqMuWU",
        "outputId": "0bcd7ca3-ba9a-4898-9500-84dee94ac531"
      },
      "execution_count": 12,
      "outputs": [
        {
          "output_type": "stream",
          "name": "stdout",
          "text": [
            "7 12\n",
            "1 2 3\n",
            "1 3 2\n",
            "3 2 1\n",
            "2 5 2\n",
            "3 4 4\n",
            "7 3 6\n",
            "5 1 5\n",
            "1 6 2\n",
            "6 4 1\n",
            "6 5 3\n",
            "4 5 3\n",
            "6 7 4\n",
            "8\n"
          ]
        }
      ]
    },
    {
      "cell_type": "code",
      "source": [
        "# 10-9 커리큘럼\n",
        "\n",
        "from collections import deque\n",
        "import copy\n",
        "\n",
        "# 강의 수\n",
        "N = int(input())\n",
        "# 진입차수 0으로 초기화\n",
        "indegree = [0] * (N + 1)\n",
        "# 간선 정보 리스트\n",
        "graph = [[] for i in range(N + 1)]\n",
        "# 각 강의 시간 0으로 초기화\n",
        "time = [0] * (N + 1)\n",
        "\n",
        "# 모든 간선 정보\n",
        "for i in range(1, N + 1):\n",
        "    data = list(map(int, input().split()))  # 일단 리스트에 전부 담은 후\n",
        "    time[i] = data[0] # 리스트의 첫 번째 수는 시간\n",
        "    for x in data[1:-1]:  # 리스트의 두 번째 수부터 뒤에서 두번째까지는 선수과목 번호\n",
        "        indegree[i] += 1  # 진입차수 증가시키고\n",
        "        graph[x].append(i)  # 간선 정보에 담기\n",
        "\n",
        "\n",
        "# 위상 정렬 함수\n",
        "def topology_sort():\n",
        "    result = copy.deepcopy(time)  # 리스트의 값을 복사하는 함수\n",
        "    q = deque()\n",
        "    # 처음 시작할 때는 진입차수가 0인 노드를 큐에 삽입\n",
        "    for i in range(1, N + 1):\n",
        "        if indegree[i] == 0:\n",
        "            q.append(i)\n",
        "    # 큐가 빌때까지 반복\n",
        "    while q:\n",
        "        # 큐에서 원소 꺼내기\n",
        "        now = q.popleft()\n",
        "        # 해당 원소와 연결된 노드들 확인\n",
        "        for i in graph[now]:\n",
        "            # 인접한 노드에 대하여 현재보다 강의 시간이 더 긴 경우를 찾는다면, 더 오랜 시간이 걸리는 경우의 시간 값을 저장\n",
        "            result[i] = max(result[i], result[now] + time[i])\n",
        "            # 연결된 노드들의 진입차수에서 1빼기\n",
        "            indegree[i] -= 1\n",
        "            # 새롭게 진입차수가 0이 되는 노드를 큐에 삽입\n",
        "            if indegree[i] == 0:\n",
        "                q.append(i)\n",
        "    #위상 정렬 수행 결과 출력\n",
        "    for i in range(1, N+1):\n",
        "        print(result[i])\n",
        "\n",
        "topology_sort()"
      ],
      "metadata": {
        "colab": {
          "base_uri": "https://localhost:8080/"
        },
        "id": "yhdWWr8d461S",
        "outputId": "1c56be84-7d82-454a-a92f-03feda3499cf"
      },
      "execution_count": 14,
      "outputs": [
        {
          "output_type": "stream",
          "name": "stdout",
          "text": [
            "5\n",
            "10 -1\n",
            "10 1 -1\n",
            "4 1 -1\n",
            "4 3 1 -1\n",
            "3 3 -1\n",
            "10\n",
            "20\n",
            "14\n",
            "18\n",
            "17\n"
          ]
        }
      ]
    }
  ]
}