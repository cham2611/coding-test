{
  "nbformat": 4,
  "nbformat_minor": 0,
  "metadata": {
    "colab": {
      "provenance": []
    },
    "kernelspec": {
      "name": "python3",
      "display_name": "Python 3"
    },
    "language_info": {
      "name": "python"
    }
  },
  "cells": [
    {
      "cell_type": "code",
      "execution_count": 8,
      "metadata": {
        "colab": {
          "base_uri": "https://localhost:8080/"
        },
        "id": "YZgdGwUNAyWS",
        "outputId": "5b3bb70b-79b1-4e21-bd61-dee90905ec8b"
      },
      "outputs": [
        {
          "output_type": "stream",
          "name": "stdout",
          "text": [
            "7\n",
            "3 10\n",
            "5 20\n",
            "1 10\n",
            "1 20\n",
            "2 15\n",
            "4 40\n",
            "2 200\n",
            "10\n"
          ]
        }
      ],
      "source": [
        "#퇴사 : 오류 발생\n",
        "\n",
        "n = int(input()) # 7\n",
        "tp = [list(map(int, input().split())) for _ in range(n)]\n",
        "# 3, 10 / 5, 20 / 1, 10 / 1, 20 / 2, 15 / 40, 40 / 2, 200\n",
        "\n",
        "max_value = 0\n",
        "value = 0\n",
        "\n",
        "for i in range(n):\n",
        "  value+= tp[i][0]\n",
        "  if value <= n:\n",
        "    max_value+= tp[i][1]\n",
        "    i= value-1\n",
        "\n",
        "print(max_value)"
      ]
    },
    {
      "cell_type": "code",
      "source": [
        "# 퇴사\n",
        "\n",
        "n = int(input())\n",
        "tp = [list(map(int, input().split())) for _ in range(n)]\n",
        "dp = [0 for _ in range(n+1)]\n",
        "\n",
        "for i in range(n-1,-1,-1):\n",
        "    if i+tp[i][0]>n:\n",
        "        dp[i] = dp[i+1]\n",
        "    else:\n",
        "        dp[i] = max (dp[i+1],dp[i+tp[i][0]]+tp[i][1])\n",
        "print(dp[0])\n"
      ],
      "metadata": {
        "colab": {
          "base_uri": "https://localhost:8080/"
        },
        "id": "00a9Qof0Ijxb",
        "outputId": "75e10cda-c8f4-427c-edcc-ec0d46b60dd9"
      },
      "execution_count": 9,
      "outputs": [
        {
          "output_type": "stream",
          "name": "stdout",
          "text": [
            "7\n",
            "3 10\n",
            "5 20\n",
            "1 10\n",
            "1 20\n",
            "2 15\n",
            "4 40\n",
            "2 200\n",
            "45\n"
          ]
        }
      ]
    }
  ]
}