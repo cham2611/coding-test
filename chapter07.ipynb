{
  "nbformat": 4,
  "nbformat_minor": 0,
  "metadata": {
    "colab": {
      "provenance": []
    },
    "kernelspec": {
      "name": "python3",
      "display_name": "Python 3"
    },
    "language_info": {
      "name": "python"
    }
  },
  "cells": [
    {
      "cell_type": "code",
      "execution_count": 2,
      "metadata": {
        "colab": {
          "base_uri": "https://localhost:8080/"
        },
        "id": "chK7r2L5rmF-",
        "outputId": "6099793e-d495-4a4e-81e6-26529620a78d"
      },
      "outputs": [
        {
          "output_type": "stream",
          "name": "stdout",
          "text": [
            "생성할 원소의 개수를 입력한 다음  한 칸 띄고 찾을 문자열 입력하세요\n",
            "5 Dongbin\n",
            "앞서 적은 원소 개수만큼 문자열을 입력허세요. 구분은 띄어쓰기 한칸으로 합니다\n",
            "Han jon Dongbin tea sa\n",
            "3\n"
          ]
        }
      ],
      "source": [
        "# 순차 탐색 : 리스트 안에 있는  특정한 데이터를 찾기 위해 앞에서부터 데이터를 하나씩  차례대로 확인하는 방법\n",
        "# 7-1 순차 탐색 소스 코드\n",
        "\n",
        "\n",
        "# 순차 탐색 소스코드\n",
        "def a(array,target,n):\n",
        "  #각 원소를 하나씩 확인하며\n",
        "  for i in range(n):\n",
        "    #현재의 원소가 찾고자 하는 원소와 동일한 경우\n",
        "    if array[i] == target:\n",
        "      return i+1\n",
        "\n",
        "\n",
        "print('생성할 원소의 개수를 입력한 다음  한 칸 띄고 찾을 문자열 입력하세요')\n",
        "data =input().split()\n",
        "n= int(data[0])\n",
        "target=data[1]\n",
        "\n",
        "print('앞서 적은 원소 개수만큼 문자열을 입력허세요. 구분은 띄어쓰기 한칸으로 합니다')\n",
        "array=input().split()\n",
        "\n",
        "#순차 탐색 수행 결과 출력\n",
        "print(a(array,target,n))"
      ]
    },
    {
      "cell_type": "code",
      "source": [
        "# 이진탐색: 반으로 쪼개면서 탐색하기 / 배열 내부의 데이터가 정렬되어 있어야만 사용할 수 있다\n",
        "# 시작점, 끝점, 중간점 / 찾으려는 데이터와 중간점에 위치에 있는 데이터를 반복적으로 비교\n",
        "# 중간점은 실수일때 소수점 이하를 버린다\n",
        "# 7-2 재귀 함수로 구현한 이진 탐색 코드\n",
        "\n",
        "# 이진 탐색 소스코드 구현(재귀 함수)\n",
        "def a(target,array, start, end):\n",
        "  if  start > end :\n",
        "    return None\n",
        "  mid = (start+end)//2\n",
        "\n",
        "  if array[mid]== target:\n",
        "    return mid\n",
        "  elif array[mid] > target:\n",
        "    return a(target,array,start, mid-1)\n",
        "  else :\n",
        "    return a(target,array,mid+1, end)\n",
        "# n(원소의 개수)과 target(찾고자하는 문자열)을 입력받기\n",
        "n, target = map(int,input().split())\n",
        "\n",
        "# 전체 원소 입력받기\n",
        "array= list(map(int, input().split()))\n",
        "\n",
        "# 이진 탐색 수행 결과 출력\n",
        "result = a(target,array, 0 , n-1)\n",
        "if result == None:\n",
        "  print('원소가 존재하지 않는다')\n",
        "else:\n",
        "  print(result+1)"
      ],
      "metadata": {
        "colab": {
          "base_uri": "https://localhost:8080/"
        },
        "id": "yYiCEOSXCFJ-",
        "outputId": "39d23813-7586-4f4d-9f2e-706cb2c17b79"
      },
      "execution_count": 3,
      "outputs": [
        {
          "output_type": "stream",
          "name": "stdout",
          "text": [
            "10 7\n",
            "1 3 5 7 9 11 13 15 17 19\n",
            "4\n"
          ]
        }
      ]
    },
    {
      "cell_type": "code",
      "source": [
        "# 7-3 반복문으로 구현한 이진 탐색 소스코드\n",
        "def a(target,array, start, end):\n",
        "  while start <=end:\n",
        "    mid = (start+end)//2\n",
        "    if array[mid] == target:\n",
        "      return mid\n",
        "    elif array[mid] > target:\n",
        "      end= mid-1\n",
        "    else :\n",
        "      start=mid+1\n",
        "  return None\n",
        "# n(원소의 개수)과 target(찾고자하는 문자열)을 입력받기\n",
        "n, target = map(int,input().split())\n",
        "\n",
        "# 전체 원소 입력받기\n",
        "array= list(map(int, input().split()))\n",
        "\n",
        "# 이진 탐색 수행 결과 출력\n",
        "result = a(target,array, 0 , n-1)\n",
        "if result == None:\n",
        "  print('원소가 존재하지 않는다')\n",
        "else:\n",
        "  print(result+1)"
      ],
      "metadata": {
        "colab": {
          "base_uri": "https://localhost:8080/"
        },
        "id": "aUrLEPjUCh17",
        "outputId": "2b52b416-1aaa-494e-c986-2f30b3477ae1"
      },
      "execution_count": 5,
      "outputs": [
        {
          "output_type": "stream",
          "name": "stdout",
          "text": [
            "10 7\n",
            "1 3 5 7 9 11 13 15 17 19\n",
            "4\n"
          ]
        }
      ]
    },
    {
      "cell_type": "code",
      "source": [
        "# 7-4 한줄 입력받아 출력하는 소스코드\n",
        "import sys\n",
        "\n",
        "# input()함수를 사용하면 동작속도가 느려서 오답 판정을 받을 수 있어서 sys 라이브러리 readline()함수를 사용한다\n",
        "# 하나의 문자열 데이터 입력받기\n",
        "input_data = sys.stdin.readline().rstrip() # rstrip()는 readline()으로 입력하면 입력후 엔터가 줄 바꿈 기호로 들어가기 때문에 제거하기 위해서\n",
        "\n",
        "# 입력받은 문자열 그대로 출력\n",
        "print(input_data)\n"
      ],
      "metadata": {
        "colab": {
          "base_uri": "https://localhost:8080/"
        },
        "id": "8jSFTNheCFRE",
        "outputId": "7dbe1582-b088-402d-87c1-e7f824a005fb"
      },
      "execution_count": 9,
      "outputs": [
        {
          "output_type": "stream",
          "name": "stdout",
          "text": [
            "\n"
          ]
        }
      ]
    },
    {
      "cell_type": "code",
      "source": [
        "# 7-5 부품 찾기 / 이진 탐색\n",
        "def a(target,array, start, end):\n",
        "  while start <=end:\n",
        "    mid = (start+end)//2\n",
        "    if array[mid] == target:\n",
        "      return mid\n",
        "    elif array[mid] > target:\n",
        "      end= mid-1\n",
        "    else :\n",
        "      start=mid+1\n",
        "  return None\n",
        "\n",
        "#가게 부품 개수\n",
        "n= int(input())\n",
        "# 가게에 있는 전체 부품 번호를 공백으로 구분하여 입력\n",
        "array= list(map(int, input().split()))\n",
        "array.sort() # 이진 탐색을 수행하기 위해 사전에 정렬 수행\n",
        "# 손님이 확인 요청한 부품의 개수 입력 받기\n",
        "m= int(input())\n",
        "#손님이 확인 요청한 전체 부품 번호를 공백으로 구분하여 입력\n",
        "x= list(map(int,input().split()))\n",
        "\n",
        "# 손님이 확인 요청한 부품 번호를 하나씩 확인\n",
        "for i in x:\n",
        "  result = a(i, array, 0 , n-1)\n",
        "  if result != None:\n",
        "    print('yes', end=' ')\n",
        "  else :\n",
        "    print('no', end=' ')\n",
        ""
      ],
      "metadata": {
        "colab": {
          "base_uri": "https://localhost:8080/"
        },
        "id": "3V0lYKIVRo04",
        "outputId": "c3c0cffd-135f-4a59-a55b-15aaca0a7e55"
      },
      "execution_count": 13,
      "outputs": [
        {
          "output_type": "stream",
          "name": "stdout",
          "text": [
            "5\n",
            "8 3 7 9 2\n",
            "3\n",
            "5 7 9\n",
            "no yesyes"
          ]
        }
      ]
    },
    {
      "cell_type": "code",
      "source": [
        " # 7-6 부품 찾기 / 계수 정렬\n",
        "n= int(input())\n",
        "array = [0]* 100\n",
        "\n",
        "# 가게에 있는 전체 부품 번호를 입력받아서 기록\n",
        "for i in input().split():\n",
        "  array[int(i)]=1\n",
        "\n",
        "# 손님이 확인 요청한 부품의 개수 입력 받기\n",
        "m= int(input())\n",
        "#손님이 확인 요청한 전체 부품 번호를 공백으로 구분하여 입력\n",
        "x= list(map(int,input().split()))\n",
        "\n",
        "# 손님이 확인 요청한 부품 번호를 하나씩 확인\n",
        "for j in x:\n",
        "  if array[j]==1:\n",
        "    print('yes', end=' ')\n",
        "  else :\n",
        "     print('no', end=' ')\n"
      ],
      "metadata": {
        "colab": {
          "base_uri": "https://localhost:8080/"
        },
        "id": "g9ub6tU8S7jk",
        "outputId": "c338a487-afba-4c5d-aeca-b69bc7cb01f4"
      },
      "execution_count": 10,
      "outputs": [
        {
          "output_type": "stream",
          "name": "stdout",
          "text": [
            "5\n",
            "8 3 7 9 2\n",
            "3 \n",
            "5 7 9\n",
            "no yes yes "
          ]
        }
      ]
    },
    {
      "cell_type": "code",
      "source": [
        "# 7-7 부품 찾기 / 집합 자료형 이용\n",
        "\n",
        "n= int(input())\n",
        "#가게에 있는 전체 부품 번호를 입력 받아서 집합 set자료형에 기록\n",
        "array= set(map(int,input().split()))\n",
        "\n",
        "# 손님이 확인 요청한 부품의 개수 입력 받기\n",
        "m= int(input())\n",
        "# 손님이 확인 요청한 전체 부품 번호를 공백으로 구분하여 입력\n",
        "x= list(map(int,input().split()))\n",
        "\n",
        "# 손님이 확인 요청한 부품 번호를 하나씩 확인\n",
        "for i in x:\n",
        "  if i in array:\n",
        "    print('yes', end=' ')\n",
        "  else :\n",
        "     print('no', end=' ')\n"
      ],
      "metadata": {
        "colab": {
          "base_uri": "https://localhost:8080/"
        },
        "id": "ZMxgoQMaVMlH",
        "outputId": "841e098a-4a53-4b7f-8e08-3e3527517f24"
      },
      "execution_count": 11,
      "outputs": [
        {
          "output_type": "stream",
          "name": "stdout",
          "text": [
            "5\n",
            "8 3 7 9 2\n",
            "3\n",
            "5 7 9\n",
            "no yes yes "
          ]
        }
      ]
    },
    {
      "cell_type": "code",
      "source": [
        "# 떡의 개수와 요청한 떡의 길이를 입력받기\n",
        "n, m = map(int, input().split())\n",
        "\n",
        "# 각 떡의 개별 높이 정보를 입력받기\n",
        "array = list(map(int, input().split()))\n",
        "\n",
        "# 이진 탐색을 위한 시작점과 끝점 설정\n",
        "start = 0\n",
        "end = max(array)\n",
        "\n",
        "# 이진 탐색 수행(반복적)\n",
        "result = 0\n",
        "while start <= end:\n",
        "    total = 0\n",
        "    mid = (start + end) // 2\n",
        "    for x in array:\n",
        "        # 떡을 자르고 남은 길이를 계산\n",
        "        if x > mid:\n",
        "            total += x - mid  # 여기를 수정했습니다.\n",
        "\n",
        "    # 떡의 총 길이가 요청한 길이보다 작은 경우 더 많이 자르기 (왼쪽 부분 탐색)\n",
        "    if total < m:\n",
        "        end = mid - 1\n",
        "    # 떡의 총 길이가 요청한 길이보다 크거나 같은 경우 덜 자르기 (오른쪽 부분 탐색)\n",
        "    else:\n",
        "        result = mid  # 최대한 덜 잘랐을 때가 정답이므로, 여기에서 result를 기록합니다.\n",
        "        start = mid + 1\n",
        "\n",
        "print(result)"
      ],
      "metadata": {
        "colab": {
          "base_uri": "https://localhost:8080/"
        },
        "id": "MxnSL6PkbIm2",
        "outputId": "b6fa492b-42cc-416a-9321-ba6ed539e074"
      },
      "execution_count": 17,
      "outputs": [
        {
          "output_type": "stream",
          "name": "stdout",
          "text": [
            "4 6\n",
            "19 15 10 17\n",
            "15\n"
          ]
        }
      ]
    }
  ]
}