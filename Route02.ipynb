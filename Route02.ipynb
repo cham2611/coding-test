{
  "nbformat": 4,
  "nbformat_minor": 0,
  "metadata": {
    "colab": {
      "provenance": []
    },
    "kernelspec": {
      "name": "python3",
      "display_name": "Python 3"
    },
    "language_info": {
      "name": "python"
    }
  },
  "cells": [
    {
      "cell_type": "code",
      "execution_count": 1,
      "metadata": {
        "colab": {
          "base_uri": "https://localhost:8080/"
        },
        "id": "CILGddOtlGZ2",
        "outputId": "d32fd1bf-4828-4d5a-b3ea-3352fd934b7e"
      },
      "outputs": [
        {
          "output_type": "stream",
          "name": "stdout",
          "text": [
            "6 6\n",
            "1 5\n",
            "3 4\n",
            "4 2\n",
            "4 6\n",
            "5 2\n",
            "5 4\n",
            "1\n"
          ]
        }
      ],
      "source": [
        "# 정확한 순위 : 책 풀이\n",
        "\n",
        "n, m = map(int, input().split()) # 학생 수, 성적 비교 횟수\n",
        "INF = int(1e9)\n",
        "graph = [[INF] * (n + 1) for _ in range(n + 1)] # 경로를 담을 그래프\n",
        "for i in range(1, n + 1):\n",
        "    graph[i][i] = 0 # 자기 자신으로 가는 경로의 비용은 0\n",
        "\n",
        "for _ in range(m): # i 성적 < j 성적\n",
        "    i, j = map(int, input().split())\n",
        "    graph[i][j] = 1\n",
        "\n",
        "for k in range(1, n + 1): # 플로이드 와샬 알고리즘 수행\n",
        "    for a in range(1, n + 1):\n",
        "        for b in range(1, n + 1):\n",
        "            graph[a][b] = min(graph[a][b], graph[a][k] + graph[k][b])\n",
        "\n",
        "# 자기보다 성적이 높은 학생에게 도달 가능하고(그래서 성적이 높은 학생 수를 알 수 있고),\n",
        "# 자기보다 성적이 낮은 학생이 자기에게 도달 가능하면(그래서 성적이 낮은 학생 수를 알 수 있으면) 정확한 순위를 알 수 있다.\n",
        "# 즉, 자기보다 성적이 낮은 학생 수 + 자기보다 성적이 높은 학생 수 = 총 학생 수 이어야 한다.\n",
        "cnt = 0\n",
        "for i in range(1, n + 1):\n",
        "    possible = True # 순위를 알 수 있다고 가정하고\n",
        "    for j in range(1, n + 1):\n",
        "        if graph[i][j] == graph[j][i] == INF: # 자기보다 성적이 낮거나 높은지 알 수 없는 경우\n",
        "            possible = False # 순위를 알 수 없음!\n",
        "            break\n",
        "    if possible: # 순위를 알 수 있다면\n",
        "        cnt += 1 # 정답 1명 증가\n",
        "print(cnt)"
      ]
    }
  ]
}