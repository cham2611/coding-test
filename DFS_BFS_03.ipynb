{
  "nbformat": 4,
  "nbformat_minor": 0,
  "metadata": {
    "colab": {
      "provenance": []
    },
    "kernelspec": {
      "name": "python3",
      "display_name": "Python 3"
    },
    "language_info": {
      "name": "python"
    }
  },
  "cells": [
    {
      "cell_type": "code",
      "execution_count": 6,
      "metadata": {
        "colab": {
          "base_uri": "https://localhost:8080/"
        },
        "id": "r-yZrYkCU3S5",
        "outputId": "7f06c14c-d68d-4fe6-86bf-1a839df2a89d"
      },
      "outputs": [
        {
          "output_type": "stream",
          "name": "stdout",
          "text": [
            "2\n",
            "5 6\n",
            "0 0 1 0\n",
            "30\n",
            "30\n"
          ]
        }
      ],
      "source": [
        "# 연산자 끼워 넣기 ->  정확하게 나오지 않는다\n",
        "\n",
        "n = int(input())\n",
        "\n",
        "num = list(map(int, input().split()))\n",
        "\n",
        "op_num = list(map(int, input().split())) # + - * % [0]-> + [1]-> - [2]-> * [3]-> %\n",
        "\n",
        "op_list=['+','-','*','/']\n",
        "\n",
        "op = []\n",
        "for i in range(len(op_num)):\n",
        "  for _ in range(op_num[i]):\n",
        "    op.append(op_list[i])\n",
        "\n",
        "result = []\n",
        "\n",
        "def a():\n",
        "  total = num[0]\n",
        "  for i in range(1, len(num)):\n",
        "    for j in op:\n",
        "      if j == '+':\n",
        "        total += num[i]\n",
        "      elif j == '-':\n",
        "        total -= num[i]\n",
        "      elif j == '*':\n",
        "        total *= num[i]\n",
        "      elif j == '/':\n",
        "        total //= num[i]\n",
        "    result.append(total)\n",
        "\n",
        "a()\n",
        "print(max(result))\n",
        "print(min(result))"
      ]
    },
    {
      "cell_type": "code",
      "source": [
        "# 연산자 끼워 넣기\n",
        "from itertools import permutations\n",
        "\n",
        "n = int(input())\n",
        "\n",
        "num = list(map(int, input().split()))\n",
        "\n",
        "op_num = list(map(int, input().split())) # + - * % [0]-> + [1]-> - [2]-> * [3]-> %\n",
        "\n",
        "op_list=['+','-','*','/']\n",
        "\n",
        "op = []\n",
        "for i in range(len(op_num)):\n",
        "  for _ in range(op_num[i]):\n",
        "    op.append(op_list[i])\n",
        "\n",
        "result = []\n",
        "\n",
        "# a 함수 정의\n",
        "def a():\n",
        "  # op 배열에서 n-1개의 요소를 선택하여 가능한 모든 순열(permutations)을 생성하여 반복\n",
        "  for i in permutations(op, n - 1):\n",
        "      total = num[0]  # 첫 번째 숫자로 total 초기화\n",
        "      # num 배열의 두 번째 요소부터 순회하기 위해 1부터 n까지 반복\n",
        "      for j in range(1, n):\n",
        "          # i의 j-1번째 요소(연산자)가 '+'인 경우\n",
        "          if i[j - 1] == '+':\n",
        "              total += num[j]  # total에 num의 j번째 요소를 더함\n",
        "          # i의 j-1번째 요소(연산자)가 '-'인 경우\n",
        "          elif i[j - 1] == '-':\n",
        "              total -= num[j]  # total에서 num의 j번째 요소를 뺌\n",
        "          # i의 j-1번째 요소(연산자)가 '*'인 경우\n",
        "          elif i[j - 1] == '*':\n",
        "              total *= num[j]  # total에 num의 j번째 요소를 곱함\n",
        "          # i의 j-1번째 요소(연산자)가 '/'인 경우\n",
        "          elif i[j - 1] == '/':\n",
        "              total = int(total/num[j])\n",
        "      result.append(total)  # 계산된 total을 result 리스트에 추가\n",
        "a()\n",
        "print(max(result))\n",
        "print(min(result))"
      ],
      "metadata": {
        "colab": {
          "base_uri": "https://localhost:8080/"
        },
        "id": "Y7EOPzOZucUJ",
        "outputId": "f2d2805b-f2d5-4d33-d93d-eb7d7c1e781a"
      },
      "execution_count": 10,
      "outputs": [
        {
          "output_type": "stream",
          "name": "stdout",
          "text": [
            "6\n",
            "1 2 3 4 5 6\n",
            "2 1 1 1\n",
            "54\n",
            "-24\n"
          ]
        }
      ]
    }
  ]
}