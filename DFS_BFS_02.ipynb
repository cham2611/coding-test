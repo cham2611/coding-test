{
  "nbformat": 4,
  "nbformat_minor": 0,
  "metadata": {
    "colab": {
      "provenance": []
    },
    "kernelspec": {
      "name": "python3",
      "display_name": "Python 3"
    },
    "language_info": {
      "name": "python"
    }
  },
  "cells": [
    {
      "cell_type": "code",
      "execution_count": 2,
      "metadata": {
        "colab": {
          "base_uri": "https://localhost:8080/"
        },
        "id": "bv2jG5F31Llh",
        "outputId": "ce67889a-927d-4a9d-fa89-f66ae5f8170d"
      },
      "outputs": [
        {
          "output_type": "stream",
          "name": "stdout",
          "text": [
            "3 3\n",
            "1 0 2\n",
            "0 0 0\n",
            "3 0 0\n",
            "2 3 2\n",
            "3\n"
          ]
        }
      ],
      "source": [
        "3# 경쟁적 전염\n",
        "\n",
        "from collections import deque\n",
        "\n",
        "# N은 연구소의 크기, K는 바이러스의 종류\n",
        "N, K = map(int, input().split())\n",
        "graph = []  # 연구소의 상태를 나타내는 2차원 배열\n",
        "virus = []  # 바이러스 정보를 담는 리스트, 각 바이러스는 (바이러스 번호, x 좌표, y 좌표) 형태로 저장됨\n",
        "for i in range(N):\n",
        "  graph.append(list(map(int, input().split())))  # 연구소의 상태 입력 받기\n",
        "  for j in range(N):\n",
        "    if graph[i][j] != 0:\n",
        "      virus.append((graph[i][j], i, j))  # 바이러스가 존재하는 경우 리스트에 추가\n",
        "\n",
        "# S는 초, X, Y는 바이러스의 최종 위치\n",
        "S, X, Y = map(int, input().split())\n",
        "\n",
        "dx = [-1, 1, 0, 0]  # 상, 하 이동을 위한 리스트\n",
        "dy = [0, 0, -1, 1]  # 좌, 우 이동을 위한 리스트\n",
        "\n",
        "virus.sort()  # 바이러스 번호 순으로 정렬하여 낮은 번호의 바이러스부터 확산되도록 함\n",
        "\n",
        "# bfs 함수는 주어진 시간 S 후에 (X, Y) 위치에 존재하는 바이러스의 번호를 반환합니다.\n",
        "def bfs(s, X, Y):\n",
        "  q = deque(virus)  # 바이러스 정보를 담은 큐 초기화\n",
        "  count = 0  # 시간을 측정하는 변수\n",
        "  while q:\n",
        "    if count == s:  # 주어진 시간에 도달하면 반복 종료\n",
        "      break\n",
        "    for _ in range(len(q)):  # 큐의 길이만큼 반복하여 해당 시간에 확산될 수 있는 바이러스 처리\n",
        "      prev, x, y = q.popleft()  # 큐에서 바이러스 정보를 꺼냄\n",
        "      for i in range(4):  # 상하좌우 네 방향에 대해 확산 시도\n",
        "        nx = x + dx[i]  # 다음 x 위치\n",
        "        ny = y + dy[i]  # 다음 y 위치\n",
        "        if 0 <= nx < N and 0 <= ny < N:  # 연구소 범위 내인 경우\n",
        "          if graph[nx][ny] == 0:  # 아직 바이러스가 확산되지 않은 경우\n",
        "            graph[nx][ny] = graph[x][y]  # 바이러스 확산\n",
        "            q.append((graph[nx][ny], nx, ny))  # 확산된 바이러스 정보를 큐에 추가\n",
        "    count += 1  # 시간 증가\n",
        "  return graph[X-1][Y-1]  # 주어진 위치의 바이러스 번호 반환\n",
        "\n",
        "print(bfs(S, X, Y))  # 결과 출력"
      ]
    },
    {
      "cell_type": "code",
      "source": [
        "# 괄호 변환\n",
        "\n",
        "# 올바른 괄호 문자열인지 확인하는 함수\n",
        "def check(s):\n",
        "    stack = []\n",
        "\n",
        "    # 문자열 s를 순회하면서\n",
        "    for i in s:\n",
        "        # 여는 괄호 '('를 만나면 스택에 추가\n",
        "        if i == '(':\n",
        "            stack.append(i)\n",
        "        else:\n",
        "            # 스택이 비어있으면 올바르지 않은 괄호 문자열\n",
        "            if len(stack) == 0:\n",
        "                return False\n",
        "            # 닫는 괄호 ')'를 만나면 스택에서 하나를 빼냄\n",
        "            stack.pop()\n",
        "    # 모든 과정을 마치고 스택이 비어있으면 올바른 괄호 문자열\n",
        "    return True\n",
        "\n",
        "# 균형잡힌 괄호 문자열을 u, v로 분리하는 함수\n",
        "def divide(s):\n",
        "    left, right = 0, 0  # 여는 괄호와 닫는 괄호의 수를 세기 위한 변수\n",
        "    for i in range(len(s)):\n",
        "        if s[i] == '(':\n",
        "            left += 1\n",
        "        else:\n",
        "            right += 1\n",
        "        # 여는 괄호와 닫는 괄호의 수가 같아지는 지점에서 문자열을 분리\n",
        "        if left == right:\n",
        "            return s[:i+1], s[i+1:]\n",
        "\n",
        "# 주어진 균형잡힌 괄호 문자열을 올바른 괄호 문자열로 변환하는 함수\n",
        "def solution(p):\n",
        "    if not p:\n",
        "        return ''  # 빈 문자열이면 그대로 반환\n",
        "\n",
        "    u, v = divide(p)  # 문자열을 u와 v로 분리\n",
        "\n",
        "    if check(u):\n",
        "        # u가 올바른 괄호 문자열이면, v에 대해 같은 과정을 재귀적으로 수행\n",
        "        return u + solution(v)\n",
        "    else:\n",
        "        # u가 올바른 괄호 문자열이 아니면, 문제의 지시에 따라 새로운 문자열을 구성\n",
        "        answer = '('\n",
        "        answer += solution(v)  # v에 대해 재귀적으로 수행한 결과를 추가\n",
        "        answer += ')'\n",
        "\n",
        "        # u의 첫 번째와 마지막 문자를 제외한 나머지 문자들의 괄호 방향을 뒤집어 추가\n",
        "        for s in u[1:len(u)-1]:\n",
        "            if s == '(':\n",
        "                answer += ')'\n",
        "            else:\n",
        "                answer += '('\n",
        "        return answer\n"
      ],
      "metadata": {
        "id": "9yo3uKamofvX"
      },
      "execution_count": 3,
      "outputs": []
    }
  ]
}