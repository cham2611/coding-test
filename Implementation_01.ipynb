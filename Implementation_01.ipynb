{
  "nbformat": 4,
  "nbformat_minor": 0,
  "metadata": {
    "colab": {
      "provenance": []
    },
    "kernelspec": {
      "name": "python3",
      "display_name": "Python 3"
    },
    "language_info": {
      "name": "python"
    }
  },
  "cells": [
    {
      "cell_type": "code",
      "execution_count": 8,
      "metadata": {
        "colab": {
          "base_uri": "https://localhost:8080/"
        },
        "id": "3VB-hAzrGhc1",
        "outputId": "4b246fb3-8982-45fe-c944-8552f0a2f154"
      },
      "outputs": [
        {
          "output_type": "stream",
          "name": "stdout",
          "text": [
            "123402\n",
            "LUCKY\n"
          ]
        }
      ],
      "source": [
        "# 럭키 스트레이트\n",
        "\n",
        "n = input()\n",
        "\n",
        "num1=0\n",
        "num2=0\n",
        "\n",
        "half=len(n)//2\n",
        "\n",
        "for i in range(half):\n",
        "  num1+=int(n[i])\n",
        "\n",
        "for j in range(half, len(n)):\n",
        "  num2+=int(n[j])\n",
        "\n",
        "if num1 == num2:\n",
        "  print('LUCKY')\n",
        "else:\n",
        "  print('READY')\n",
        "\n"
      ]
    },
    {
      "cell_type": "code",
      "source": [
        "# 럭키 스트레이트 책 풀이\n",
        "\n",
        "n = input()\n",
        "\n",
        "half=len(n)\n",
        "num=0\n",
        "\n",
        "for i in range(half//2):\n",
        "  num+=int(n[i])\n",
        "\n",
        "for j in range(half//2,half):\n",
        "  num-=int(n[j])\n",
        "\n",
        "if num == 0:\n",
        "  print('LUCKY')\n",
        "else:\n",
        "  print('READY')\n"
      ],
      "metadata": {
        "colab": {
          "base_uri": "https://localhost:8080/"
        },
        "id": "5Ibg6vtmKWPf",
        "outputId": "f5b53233-5d38-48a1-f9de-b20ef6bb587f"
      },
      "execution_count": 11,
      "outputs": [
        {
          "output_type": "stream",
          "name": "stdout",
          "text": [
            "123402\n",
            "LUCKY\n"
          ]
        }
      ]
    },
    {
      "cell_type": "code",
      "source": [
        "#문자열 재정렬\n",
        "\n",
        "n =input()\n",
        "\n",
        "message = []\n",
        "num =[]\n",
        "\n",
        "for i in range(len(n)):\n",
        "    # isdigit() 메소드 -> 문자열이 '숫자'로만 이루어져있는지 확인\n",
        "    # 문자가 '단 하나'라도 있다면 False를 반환하고,모든 문자가 '숫자'로만 이루어져있으면 True를\n",
        "    if n[i].isdigit() == True:\n",
        "        num.append(int(n[i]))\n",
        "    else:\n",
        "        message.append(n[i])\n",
        "\n",
        "message.sort()\n",
        "num_sum=sum(num) # 숫자의 총합\n",
        "\n",
        "if num_sum != 0: # 숫자의 총합이 0이 아니면\n",
        "    message.insert(len(message),str(num_sum)) # message리스트에 맨뒤에 숫자의 총합\n",
        "\n",
        "print(message)\n",
        "\n",
        "#리스트를 문자열로 변환 // join() 메소드를 사용할 때, 이 메소드는 리스트의 모든 요소가 문자열\n",
        "print(''.join(message))\n",
        ""
      ],
      "metadata": {
        "colab": {
          "base_uri": "https://localhost:8080/"
        },
        "id": "Iq5M6HqrJz2q",
        "outputId": "b1b8b5ee-32c5-4590-da75-7b72705f764f"
      },
      "execution_count": 29,
      "outputs": [
        {
          "output_type": "stream",
          "name": "stdout",
          "text": [
            "k1ka5cb7\n",
            "['a', 'b', 'c', 'k', 'k', '13']\n",
            "abckk13\n"
          ]
        }
      ]
    },
    {
      "cell_type": "code",
      "source": [
        "# 문자열 재정렬 책 풀이\n",
        "\n",
        "data =input()\n",
        "result=[]\n",
        "value=0\n",
        "\n",
        "# 문자를 하나씩 확인하며\n",
        "for x in data:\n",
        "  # 알파벳이 경우 결과 리스트에 삽입\n",
        "  if x.isalpha(): #해당 문자열이 알파벳(문자)로만 구성되어 있으면 True를, 그렇지 않으면 False를 반환합니다\n",
        "                  #이 메소드는 문자열이 문자(영문자나 다른 언어의 문자 포함)로만 이루어져 있는지 확인할 때 유용\n",
        "    result.append(x)\n",
        "  # 숫자는 따로 더하기\n",
        "  else:\n",
        "    value+=int(x)\n",
        "\n",
        "# 알파벳을 오름차순으로 정렬\n",
        "result.sort()\n",
        "\n",
        "# 숫자가 하나라도 존재하는 경우 가장 뒤에  삽입\n",
        "if value !=0:\n",
        "  result.append(str(value))\n",
        "\n",
        "# 최종 결과 출력(리스트를 문자열로 변환하여 출력)\n",
        "print(''.join(result)) #  message라는 리스트에 있는 모든 문자열 요소들을 빈 문자열('')을 사용하여 연결"
      ],
      "metadata": {
        "colab": {
          "base_uri": "https://localhost:8080/"
        },
        "id": "Tn5Ibi-gT_Q5",
        "outputId": "15162a08-afd2-4670-a975-1694ac4c74ac"
      },
      "execution_count": 25,
      "outputs": [
        {
          "output_type": "stream",
          "name": "stdout",
          "text": [
            "k1ka5cb7\n",
            "abckk13\n"
          ]
        }
      ]
    },
    {
      "cell_type": "code",
      "source": [
        "# 문자열 압축\n",
        "def solution(s):\n",
        "\t# 압축단위 후보는 1부터 len//2 까지\n",
        "    candi = [i for i in range(1, (len(s)//2+1))]\n",
        "    # 정답의 upper bound는 압축을 하지 않은 케이스\n",
        "    answer = len(s)\n",
        "\n",
        "    # 각 압축단위에 대해서\n",
        "    for length in candi:\n",
        "        key = s[:length]\n",
        "        shorten = []\n",
        "        cnt = 1\n",
        "        # 압축단위로 잘라서 압축을 진행하고\n",
        "        # shorten에 압축문자열과 그 횟수를 저장한다.\n",
        "        for  i in range(length, len(s), length):\n",
        "            if key == s[i:i+length]:\n",
        "                cnt += 1\n",
        "            else:\n",
        "                shorten.append([key, cnt])\n",
        "                cnt = 1\n",
        "                key = s[i:i+length]\n",
        "        shorten.append([key, cnt])\n",
        "        # 기존의 베스트 압축길이와 새로운 압축길이를 비교해 업데이트\n",
        "        # 문자열의 길이는 항상 포함하되, 압축횟수의 길이는 압축횟수가 2 이상일 때만\n",
        "        answer = min(answer, sum([len(key) + (len(str(cnt)) if cnt > 1 else 0) for key, cnt in shorten]))\n",
        "    return answer"
      ],
      "metadata": {
        "id": "UC2Im86QYzZz"
      },
      "execution_count": 30,
      "outputs": []
    }
  ]
}