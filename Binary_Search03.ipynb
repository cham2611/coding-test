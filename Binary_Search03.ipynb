{
  "nbformat": 4,
  "nbformat_minor": 0,
  "metadata": {
    "colab": {
      "provenance": []
    },
    "kernelspec": {
      "name": "python3",
      "display_name": "Python 3"
    },
    "language_info": {
      "name": "python"
    }
  },
  "cells": [
    {
      "cell_type": "code",
      "execution_count": 1,
      "metadata": {
        "colab": {
          "base_uri": "https://localhost:8080/"
        },
        "id": "l6D0A-w02bOj",
        "outputId": "0493ee9b-eee5-4f2c-e916-868541183a8c"
      },
      "outputs": [
        {
          "output_type": "stream",
          "name": "stdout",
          "text": [
            "5 3\n",
            "1\n",
            "2\n",
            "8\n",
            "4\n",
            "9\n",
            "3\n"
          ]
        }
      ],
      "source": [
        "# 공유기 설치\n",
        "\n",
        "N, C = map(int, input().split())  # 사용자로부터 집의 개수(N)와 공유기의 개수(C)를 입력받음\n",
        "\n",
        "arr = []  # 각 집의 위치를 저장할 리스트\n",
        "for _ in range(N):  # 사용자로부터 N개의 집 위치를 입력받아 arr 리스트에 추가\n",
        "    arr.append(int(input()))\n",
        "arr.sort()  # 집의 위치를 오름차순으로 정렬\n",
        "\n",
        "start = 1  # 공유기 거리 최소값\n",
        "end = arr[-1] - arr[0]  # 공유기 거리 최대값\n",
        "result = 0  # 최적의 공유기 사이 거리를 저장할 변수\n",
        "\n",
        "# 이진 탐색 시작\n",
        "while (start <= end):\n",
        "    mid = (start + end) // 2  # 현재 공유기 거리(중간값)\n",
        "    current = arr[0]  # 첫 번째 집에 공유기를 설치하고 시작\n",
        "    count = 1  # 설치한 공유기의 수\n",
        "\n",
        "    # 현재 공유기 사이 거리(mid)를 기준으로 공유기 설치 가능 여부 확인\n",
        "    for i in range(1, len(arr)):\n",
        "        if arr[i] >= current + mid:  # 다음 집이 현재 집에서 mid 이상 떨어져 있다면 공유기 설치\n",
        "            count += 1\n",
        "            current = arr[i]  # 현재 집 위치 갱신\n",
        "\n",
        "    # 공유기 설치 수가 목표(C)보다 크거나 같으면 거리를 늘림\n",
        "    if count >= C:\n",
        "        start = mid + 1\n",
        "        result = mid  # 현재의 mid 값을 결과로 저장\n",
        "    # 공유기 설치 수가 목표보다 작으면 거리를 줄임\n",
        "    else:\n",
        "        end = mid - 1\n",
        "\n",
        "print(result)  # 최적의 공유기 사이 거리 출력"
      ]
    }
  ]
}