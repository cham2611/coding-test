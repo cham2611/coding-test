{
  "nbformat": 4,
  "nbformat_minor": 0,
  "metadata": {
    "colab": {
      "provenance": []
    },
    "kernelspec": {
      "name": "python3",
      "display_name": "Python 3"
    },
    "language_info": {
      "name": "python"
    }
  },
  "cells": [
    {
      "cell_type": "code",
      "execution_count": 1,
      "metadata": {
        "id": "4pzx7TRd4wev"
      },
      "outputs": [],
      "source": [
        "# 가사 검색\n",
        "\n",
        "from bisect import bisect_left, bisect_right\n",
        "\n",
        "# 각 길이별로 단어를 저장할 배열과 뒤집힌 단어를 저장할 배열을 초기화\n",
        "array = [[] for _ in range(10001)]  # 원래 단어를 길이별로 저장할 배열\n",
        "reverse_array = [[] for _ in range(10001)]  # 단어를 뒤집어 길이별로 저장할 배열\n",
        "\n",
        "def solution(words, queries):\n",
        "    answer = []  # 쿼리별 매칭되는 단어 수를 저장할 배열\n",
        "\n",
        "    # words를 길이별로 나눠서 array와 reverse_array에 저장\n",
        "    for word in words:\n",
        "        array[len(word)].append(word)  # 각 단어를 길이에 맞는 위치에 원래 형태로 저장\n",
        "        reverse_array[len(word)].append(word[::-1])  # 각 단어를 길이에 맞는 위치에 뒤집어서 저장\n",
        "\n",
        "    # 모든 길이의 배열을 알파벳 순으로 정렬\n",
        "    for i in range(10001):\n",
        "        array[i].sort()  # 원래 단어 배열을 알파벳 순으로 정렬\n",
        "        reverse_array[i].sort()  # 뒤집힌 단어 배열을 알파벳 순으로 정렬\n",
        "\n",
        "    # 쿼리 처리\n",
        "    for query in queries:\n",
        "        if query[0] == '?':  # 쿼리가 '?'로 시작하는 경우, 뒤집힌 배열 사용\n",
        "            # '?'를 'a'로 치환하여 이진 검색으로 시작 인덱스 탐색\n",
        "            lindex = bisect_left(reverse_array[len(query)], query[::-1].replace('?', 'a'))\n",
        "            # '?'를 'z'로 치환하여 이진 검색으로 끝 인덱스 탐색\n",
        "            rindex = bisect_right(reverse_array[len(query)], query[::-1].replace('?', 'z'))\n",
        "        else:  # 쿼리가 '?'로 시작하지 않는 경우, 원래 배열 사용\n",
        "            # '?'를 'a'로 치환하여 이진 검색으로 시작 인덱스 탐색\n",
        "            lindex = bisect_left(array[len(query)], query.replace('?', 'a'))\n",
        "            # '?'를 'z'로 치환하여 이진 검색으로 끝 인덱스 탐색\n",
        "            rindex = bisect_right(array[len(query)], query.replace('?', 'z'))\n",
        "\n",
        "        # 찾은 인덱스의 차이(매칭되는 단어의 수)를 정답 배열에 추가\n",
        "        answer.append(rindex - lindex)\n",
        "\n",
        "    return answer  # 쿼리별 매칭된 단어 수를 담은 배열 반환\n"
      ]
    }
  ]
}