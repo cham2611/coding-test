{
  "nbformat": 4,
  "nbformat_minor": 0,
  "metadata": {
    "colab": {
      "provenance": []
    },
    "kernelspec": {
      "name": "python3",
      "display_name": "Python 3"
    },
    "language_info": {
      "name": "python"
    }
  },
  "cells": [
    {
      "cell_type": "code",
      "execution_count": null,
      "metadata": {
        "id": "hZd-g4fha8BV"
      },
      "outputs": [],
      "source": [
        "# 금광 : 오류\n",
        "\n",
        "t = int(input())\n",
        "\n",
        "for _ in range(t):\n",
        "  n,m = map(int, input().split())\n",
        "  array = list(map(int, input().split()))\n",
        "\n",
        "  gold =[]\n",
        "  for i in range(n):\n",
        "    gold.append(array[i*m : i*m+m]) # n*m\n",
        "\n",
        "  for j in range(m):\n",
        "    for i in range(n):\n",
        "      # 오른쪽 위가 없다면\n",
        "      if i ==0:\n",
        "        gold[i][j] += max(gold[i][j+1], gold[i+1][j+1])\n",
        "      # 오른쪽 아래가 없다면\n",
        "      elif i == n-1 :\n",
        "        gold[i][j] += max(gold[i-1][j+1], gold[i][j+1])\n",
        "      # 오른쪽 위와 오른쪽 아래가 다 있다면\n",
        "      else:\n",
        "        gold[i][j] += max(gold[i-1][j+1], gold[i][j+1],gold[i+1][j+1])\n",
        "\n",
        "    result = 0\n",
        "    for i in range(n):\n",
        "        result = max(result, gold[i][m-1])\n",
        "\n",
        "print(result)\n",
        "\n",
        ""
      ]
    },
    {
      "cell_type": "code",
      "source": [
        "# 금광 : 책 풀이\n",
        "\n",
        "# 테스트 케이스 입력\n",
        "t = int(input())\n",
        "\n",
        "for _ in range(t):\n",
        "    # 금광 정보 입력\n",
        "    n, m = map(int, input().split())\n",
        "    gold_input = list(map(int, input().split()))\n",
        "\n",
        "    # 다이나믹 프로그래밍을 위한 2차원 DP 테이블 초기화\n",
        "    gold = []\n",
        "    for i in range(n):\n",
        "        gold.append(gold_input[i*m:i*m+m])\n",
        "\n",
        "    # 다이나믹 프로그래밍 진행\n",
        "    for j in range(1, m):\n",
        "        for i in range(n):\n",
        "            # 왼쪽 위가 없다면\n",
        "            if ( i == 0 ):\n",
        "                gold[i][j] += max(gold[i][j-1], gold[i+1][j-1])\n",
        "            # 왼쪽 아래가 없다면\n",
        "            elif ( i == n - 1):\n",
        "                gold[i][j] += max(gold[i-1][j-1], gold[i][j-1])\n",
        "            # 왼쪽 위와 왼쪽 아래가 다 있다면\n",
        "            else:\n",
        "                gold[i][j] += max(gold[i-1][j-1], gold[i][j-1], gold[i+1][j-1])\n",
        "\n",
        "    # 채굴자가 얻을 수 있는 금의 최대 크기 비교\n",
        "    result = 0\n",
        "    for i in range(n):\n",
        "        result = max(result, gold[i][m - 1])\n",
        "\n",
        "    print(result)\n"
      ],
      "metadata": {
        "colab": {
          "base_uri": "https://localhost:8080/"
        },
        "id": "kT8aYTsmHYFj",
        "outputId": "22c110c4-1a0d-4736-c1e8-8803cc57a7cf"
      },
      "execution_count": 5,
      "outputs": [
        {
          "output_type": "stream",
          "name": "stdout",
          "text": [
            "2\n",
            "3 4\n",
            "1 3 3 2 2 1 4 1 0 6 4 7\n",
            "19\n",
            "4 4\n",
            "1 3 1 5 2 2 4 1 5 0 2 3 0 6 1 2\n",
            "16\n"
          ]
        }
      ]
    }
  ]
}