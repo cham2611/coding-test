{
  "nbformat": 4,
  "nbformat_minor": 0,
  "metadata": {
    "colab": {
      "provenance": []
    },
    "kernelspec": {
      "name": "python3",
      "display_name": "Python 3"
    },
    "language_info": {
      "name": "python"
    }
  },
  "cells": [
    {
      "cell_type": "code",
      "execution_count": 3,
      "metadata": {
        "colab": {
          "base_uri": "https://localhost:8080/"
        },
        "id": "QQPCJZckfrFF",
        "outputId": "eee8eb21-c81c-433f-c839-2a06671c1f88"
      },
      "outputs": [
        {
          "output_type": "stream",
          "name": "stdout",
          "text": [
            "4\n",
            "5 1 9 7\n",
            "5\n"
          ]
        }
      ],
      "source": [
        "# 안테나\n",
        "n = int(input())\n",
        "house = list(map(int, input().split()))\n",
        "result= [] # 안테나로부터 모든 집까지의 거리의 총합\n",
        "\n",
        "for i in range(n):\n",
        "  a=house[i] # 안테나 설치 장소\n",
        "  sum = 0 # 거리합\n",
        "  for j in range(n):\n",
        "    b=house[j]\n",
        "    sum += abs(a-b)\n",
        "  result.append(sum)\n",
        "\n",
        "result # 0, 1, 2, 3이 안테나일 때 거리에 대한 값이 저장\n",
        "\n",
        "min = result[0]\n",
        "min_index = 0\n",
        "for i in range(1,len(result)):\n",
        "  if result[i] < min:\n",
        "    min = result[i]\n",
        "    min_index=i\n",
        "\n",
        "print(house[min_index])\n"
      ]
    },
    {
      "cell_type": "code",
      "source": [
        "# 안테나 책 풀이\n",
        "\n",
        "# 사용자로부터 집의 개수를 입력받습니다.\n",
        "n = int(input())\n",
        "# 사용자로부터 집들의 위치를 입력받아 정수 리스트로 변환합니다.\n",
        "arr = list(map(int, input().split()))\n",
        "# 집들의 위치를 오름차순으로 정렬합니다.\n",
        "arr.sort()\n",
        "\n",
        "# 정렬된 리스트에서 중앙값을 찾기 위한 인덱스를 계산합니다.\n",
        "# (n - 1) // 2는 집의 개수가 홀수일 경우 정확히 중앙의 인덱스를,\n",
        "# 집의 개수가 짝수일 경우 중앙에 위치한 두 값 중 왼쪽 값의 인덱스를 반환합니다.\n",
        "# 이 인덱스에 해당하는 집의 위치가 안테나를 설치하기 위한 최적의 위치입니다.\n",
        "# 안테나로부터 모든 집까지의 거리의 합을 최소화하는 위치를 찾는 문제에서,\n",
        "# 이 위치는 거리의 합을 최소로 만드는 특성을 가집니다.\n",
        "# 따라서 이 위치에 해당하는 집의 번지수를 출력합니다.\n",
        "print(arr[(n - 1) // 2])"
      ],
      "metadata": {
        "colab": {
          "base_uri": "https://localhost:8080/"
        },
        "id": "jtvySYNXilw7",
        "outputId": "a6a1d01a-df9f-4b9f-88e7-2843bc6f4cb6"
      },
      "execution_count": 4,
      "outputs": [
        {
          "output_type": "stream",
          "name": "stdout",
          "text": [
            "4\n",
            "5 1 9 7\n",
            "5\n"
          ]
        }
      ]
    }
  ]
}