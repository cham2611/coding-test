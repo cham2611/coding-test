{
  "nbformat": 4,
  "nbformat_minor": 0,
  "metadata": {
    "colab": {
      "provenance": []
    },
    "kernelspec": {
      "name": "python3",
      "display_name": "Python 3"
    },
    "language_info": {
      "name": "python"
    }
  },
  "cells": [
    {
      "cell_type": "code",
      "execution_count": 1,
      "metadata": {
        "colab": {
          "base_uri": "https://localhost:8080/"
        },
        "id": "LZ97l7mzYLur",
        "outputId": "64b68a71-8ce6-4b49-fc03-07e2eaa8bdff"
      },
      "outputs": [
        {
          "output_type": "stream",
          "name": "stdout",
          "text": [
            "3\n",
            "3\n",
            "5 5 4\n",
            "3 9 1\n",
            "3 2 7\n",
            "20\n",
            "5\n",
            "3 7 2 0 1\n",
            "2 8 0 9 1\n",
            "1 2 1 8 1\n",
            "9 8 9 2 0\n",
            "3 6 5 1 5\n",
            "19\n",
            "7\n",
            "9 0 5 1 1 5 3\n",
            "4 1 2 1 6 5 3\n",
            "0 7 6 1 6 8 5\n",
            "1 1 7 8 3 2 3\n",
            "9 4 0 7 6 4 1\n",
            "5 8 3 2 4 8 3\n",
            "7 4 8 4 8 3 4\n",
            "36\n"
          ]
        }
      ],
      "source": [
        "# 화성 탐사\n",
        "import heapq\n",
        "INF = int(1e9)\n",
        "\n",
        "dx = [0,1,0,-1]\n",
        "dy = [1,0,-1,0]\n",
        "\n",
        "t = int(input())\n",
        "\n",
        "for _ in range(t):\n",
        "    n = int(input())\n",
        "    graph = []\n",
        "    for i in range(n):\n",
        "        graph.append(list(map(int, input().split())))\n",
        "    distance = [[INF] * n for _ in range(n)]\n",
        "\n",
        "    x,y = 0,0\n",
        "    q = [(graph[x][y], x,y)]\n",
        "    distance[x][y] = graph[x][y]\n",
        "\n",
        "    while q:\n",
        "        dist,x,y = heapq.heappop(q)\n",
        "        if distance[x][y] < dist:\n",
        "            continue\n",
        "        for i in range(4):\n",
        "            nx = x + dx[i]\n",
        "            ny = y + dy[i]\n",
        "\n",
        "            if nx < 0 or nx >= n or ny < 0 or ny >= n:\n",
        "                continue\n",
        "            cost = dist + graph[nx][ny]\n",
        "            if cost < distance[nx][ny]:\n",
        "                 distance[nx][ny] = cost\n",
        "                 heapq.heappush(q,(cost,nx,ny))\n",
        "\n",
        "    print(distance[n-1][n-1])\n"
      ]
    }
  ]
}