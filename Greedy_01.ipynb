{
  "nbformat": 4,
  "nbformat_minor": 0,
  "metadata": {
    "colab": {
      "provenance": []
    },
    "kernelspec": {
      "name": "python3",
      "display_name": "Python 3"
    },
    "language_info": {
      "name": "python"
    }
  },
  "cells": [
    {
      "cell_type": "code",
      "execution_count": 17,
      "metadata": {
        "colab": {
          "base_uri": "https://localhost:8080/"
        },
        "id": "WbV6AlHkscta",
        "outputId": "148c42b1-5d09-4c59-cca2-13264bfe15ba"
      },
      "outputs": [
        {
          "output_type": "stream",
          "name": "stdout",
          "text": [
            "5\n",
            "2 3 1 2 2\n",
            "2\n"
          ]
        }
      ],
      "source": [
        "# 모험가 길드\n",
        "n = int(input())\n",
        "\n",
        "m = list(map(int,input().split()))\n",
        "m.sort()\n",
        "\n",
        "result=0 # 총 그룹의 수\n",
        "count=0 # 현재 그룹에 포함된 모험가의 수\n",
        "\n",
        "for i in m: # 공포도를 낮은 것부터 하나씩 확읺며\n",
        "  count+=1 # 현재 그룹에 해당 모험가를 포함시키기\n",
        "  if count >= i: #현재 그룹에 포함된 모험가의 수가 현재의 공포도 이상이라면, 그룹 결성\n",
        "    result+=1 # 총그룹의 수 증가 시키기\n",
        "    count=0 # 현재 그룹에 포함된 모험가의 수 초기화\n",
        "\n",
        "print(result) # 총 그룹의 수 출력\n"
      ]
    },
    {
      "cell_type": "code",
      "source": [
        "# 2 곱하기 혹은 더하기\n",
        "\n",
        "# 직접 만든 코드\n",
        "s = list(input())\n",
        "\n",
        "result=0\n",
        "\n",
        "for i in range(len(s)-1):\n",
        "  a= int(s[i])+int(s[i+1])\n",
        "  b= int(s[i])*int(s[i+1])\n",
        "  if a > b:\n",
        "    s[i+1]= a\n",
        "    result= a\n",
        "  else :\n",
        "    s[i+1]= b\n",
        "    result=b\n",
        "\n",
        "print(result)\n",
        "\n",
        "\n"
      ],
      "metadata": {
        "colab": {
          "base_uri": "https://localhost:8080/"
        },
        "id": "0ucJQ373spgd",
        "outputId": "242c5c07-f49c-45b3-ee31-403b933cba18"
      },
      "execution_count": 11,
      "outputs": [
        {
          "output_type": "stream",
          "name": "stdout",
          "text": [
            "567\n",
            "210\n"
          ]
        }
      ]
    },
    {
      "cell_type": "code",
      "source": [
        "# 2 곱하기 혹은 더하기 책에서 만든 코드\n",
        "\n",
        "data = input()\n",
        "\n",
        "#첫번째 문자를 숫자로 변경하여 대이\n",
        "result=int(data[0])\n",
        "\n",
        "for i in range(1, len(data)):\n",
        "  # 두 수 중에서 하나라도 0 혹은 1이경우 곱하기보다 더하기 수행\n",
        "  num=int(data[i])\n",
        "  if num <=1 or result <=1:\n",
        "    result+=num\n",
        "  else :\n",
        "    result*=num\n",
        "\n",
        "print(result)"
      ],
      "metadata": {
        "colab": {
          "base_uri": "https://localhost:8080/"
        },
        "id": "ZtRM70Zo6Oko",
        "outputId": "dcadaf0b-7e39-4591-a200-fdc7cc059894"
      },
      "execution_count": 13,
      "outputs": [
        {
          "output_type": "stream",
          "name": "stdout",
          "text": [
            "567\n",
            "210\n"
          ]
        }
      ]
    },
    {
      "cell_type": "code",
      "source": [
        "# 문자열 뒤집기\n",
        "\n",
        "n= input()\n",
        "\n",
        "count0=0 # 전부 0으로 바꾸는 경우\n",
        "count1=0 #  전부 1로 바꾸는 경우\n",
        "\n",
        "# 첫번째 원소에 대해서 처리\n",
        "if n[0]=='1':\n",
        "  count0+=1\n",
        "else :\n",
        "  count1+=1\n",
        "\n",
        "# 두번째 원소부터 모든 원소를 확인하며\n",
        "for i in range(len(n)-1):\n",
        "  if n[i]!= n[i+1]:\n",
        "    # 다음 수에서 1로 바꾸는 경우\n",
        "    if n[i+1] =='1':\n",
        "      count0+=1\n",
        "    # 다음 수에서 0으로 바꾸는 경우\n",
        "    else:\n",
        "      count1+=1\n",
        "\n",
        "print(min(count0, count1))"
      ],
      "metadata": {
        "colab": {
          "base_uri": "https://localhost:8080/"
        },
        "id": "f2mJSgDpspl9",
        "outputId": "23044fd0-c2bb-4ff8-cf5c-a6c6561408e7"
      },
      "execution_count": 15,
      "outputs": [
        {
          "output_type": "stream",
          "name": "stdout",
          "text": [
            "0001100\n",
            "1\n"
          ]
        }
      ]
    }
  ]
}