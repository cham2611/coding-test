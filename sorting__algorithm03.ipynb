{
  "nbformat": 4,
  "nbformat_minor": 0,
  "metadata": {
    "colab": {
      "provenance": []
    },
    "kernelspec": {
      "name": "python3",
      "display_name": "Python 3"
    },
    "language_info": {
      "name": "python"
    }
  },
  "cells": [
    {
      "cell_type": "code",
      "execution_count": 2,
      "metadata": {
        "id": "SAlfaxaHv3aq"
      },
      "outputs": [],
      "source": [
        "# 실패율\n",
        "\n",
        "def solution(N, stages):\n",
        "    # 최종적으로 반환할 스테이지 번호 리스트 초기화\n",
        "    answer = []\n",
        "\n",
        "    # 각 스테이지의 실패율을 저장하기 위한 딕셔너리\n",
        "    # 키(key): 스테이지 번호, 값(value): 해당 스테이지의 실패율\n",
        "    ratio = {}\n",
        "\n",
        "    # 전체 플레이어 수\n",
        "    # stages 배열의 길이로 초기화, 스테이지를 진행하면서 이 숫자는 줄어듬\n",
        "    allPlayer = len(stages)\n",
        "\n",
        "    # 1부터 N까지의 각 스테이지에 대해 반복\n",
        "    for i in range(1, N+1):\n",
        "        if allPlayer == 0:\n",
        "            # 해당 스테이지에 도달한 플레이어가 없을 경우 실패율을 0으로 설정\n",
        "            ratio[i] = 0\n",
        "        else:\n",
        "            # 해당 스테이지에서 멈춰있는 플레이어 수 계산\n",
        "            # stages 배열에서 i 값의 개수를 반환하여 실패한 플레이어 수를 구함\n",
        "            failedPlayer = stages.count(i)\n",
        "\n",
        "            # 실패율 계산: 현재 스테이지에서 멈춰있는 플레이어 수 / 현재 스테이지에 도달한 전체 플레이어 수\n",
        "            ratio[i] = failedPlayer / allPlayer\n",
        "\n",
        "            # 다음 스테이지의 계산을 위해 전체 플레이어 수에서 현재 스테이지에서 멈춰있는 플레이어 수를 뺌\n",
        "            allPlayer -= failedPlayer\n",
        "\n",
        "    # 실패율을 기준으로 스테이지 번호를 내림차순으로 정렬\n",
        "    # key=lambda x: ratio[x]는 정렬 기준을 실패율로 설정\n",
        "    # reverse=True는 내림차순 정렬을 의미함\n",
        "    # sorted 함수는 키에 해당하는 값으로 딕셔너리를 정렬하고, 그 키들을 리스트로 반환\n",
        "    answer = sorted(ratio, key=lambda x: ratio[x], reverse=True)\n",
        "\n",
        "    # 정렬된 스테이지 번호 리스트 반환\n",
        "    return answer\n"
      ]
    }
  ]
}