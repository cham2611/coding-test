{
  "nbformat": 4,
  "nbformat_minor": 0,
  "metadata": {
    "colab": {
      "provenance": []
    },
    "kernelspec": {
      "name": "python3",
      "display_name": "Python 3"
    },
    "language_info": {
      "name": "python"
    }
  },
  "cells": [
    {
      "cell_type": "code",
      "execution_count": 8,
      "metadata": {
        "colab": {
          "base_uri": "https://localhost:8080/"
        },
        "id": "dLe_E7PKqEAO",
        "outputId": "b97daf70-1d09-4244-bb8b-17ca4c0992c8"
      },
      "outputs": [
        {
          "output_type": "stream",
          "name": "stdout",
          "text": [
            "7\n",
            "15 11 4 8 5 2 4\n",
            "2\n",
            "[15, 11, 8, 5, 4]\n"
          ]
        }
      ],
      "source": [
        "# 병사 배치\n",
        "\n",
        "n = int(input())\n",
        "value = list(map(int, input().split()))\n",
        "\n",
        "result=0\n",
        "a =[]\n",
        "for i in range(n-1):\n",
        "  if value[i] < value[i+1]:\n",
        "    result+=1\n",
        "  else :\n",
        "    a.append(value[i])\n",
        "\n",
        "a.append(value[-1])\n",
        "\n",
        "print(result)\n",
        "print(a)"
      ]
    },
    {
      "cell_type": "code",
      "source": [
        "# 병사 배치 : 책 풀이\n",
        "\n",
        "n = int(input())\n",
        "\n",
        "arr = list(map(int,input().split()))\n",
        "\n",
        "dp = [1 for _ in range(n)]\n",
        "\n",
        "for i in range(1,n):\n",
        "    for j in range(i):\n",
        "        if arr[i] < arr[j]:\n",
        "            dp[i] = max(dp[i], dp[j]+1)\n",
        "\n",
        "print(len(arr) - max(dp))"
      ],
      "metadata": {
        "colab": {
          "base_uri": "https://localhost:8080/"
        },
        "id": "B-pm_iwPxybK",
        "outputId": "abc48d71-64bd-4969-f9e1-a86ffdc610d5"
      },
      "execution_count": 9,
      "outputs": [
        {
          "output_type": "stream",
          "name": "stdout",
          "text": [
            "7\n",
            "15 11 4 8 5 2 4\n",
            "2\n"
          ]
        }
      ]
    }
  ]
}