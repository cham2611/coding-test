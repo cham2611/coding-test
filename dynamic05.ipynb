{
  "nbformat": 4,
  "nbformat_minor": 0,
  "metadata": {
    "colab": {
      "provenance": []
    },
    "kernelspec": {
      "name": "python3",
      "display_name": "Python 3"
    },
    "language_info": {
      "name": "python"
    }
  },
  "cells": [
    {
      "cell_type": "code",
      "execution_count": 4,
      "metadata": {
        "colab": {
          "base_uri": "https://localhost:8080/"
        },
        "id": "5aW2X24T3W9w",
        "outputId": "1ab1c5ee-36e5-4815-d259-14cdb95e94d8"
      },
      "outputs": [
        {
          "output_type": "stream",
          "name": "stdout",
          "text": [
            "10\n",
            "12\n"
          ]
        }
      ],
      "source": [
        "# 못생긴 수\n",
        "\n",
        "n= int(input())\n",
        "\n",
        "# 2, 3, 5 포함되면 못생긴 수\n",
        "m= [2,3,5]\n",
        "\n",
        "array = []\n",
        "\n",
        "for i in range(1001):\n",
        "  for j in range(len(m)):\n",
        "    if i % m[j] == 0:\n",
        "      if i not in array:\n",
        "        array.append(i)\n",
        "\n",
        "print(array[n-1])"
      ]
    },
    {
      "cell_type": "code",
      "source": [
        "# 못생긴 수 : 책풀이\n",
        "\n",
        "n = int(input())\n",
        "\n",
        "ugly = [0] * n # 못생긴 수를 담기 위한 테이블(1차원 DP 테이블)\n",
        "ugly[0] = 1 # 첫 번째 못생긴 수는 1\n",
        "\n",
        "# 2배, 3배, 5배를 위한 인덱스\n",
        "i2 = i3 = i5 = 0\n",
        "# 처음에 곱셈값을 초기화\n",
        "next2, next3, next5 = 2, 3, 5\n",
        "\n",
        "# 1부터 n까지의 못생긴 수를 찾기\n",
        "for l in range(1, n) :\n",
        "  # 가능한 곱셈 결과 중에서 가장 작은 수를 선택\n",
        "  ugly[l] = min(next2, next3, next5)\n",
        "  # 인덱스에 따라서 곱셈 결과를 증가\n",
        "  if ugly[l] == next2 :\n",
        "    i2 += 1\n",
        "    next2 = ugly[i2] * 2\n",
        "  if ugly[l] == next3 :\n",
        "    i3 += 1\n",
        "    next3 = ugly[i3] * 3\n",
        "  if ugly[l] == next5 :\n",
        "    i5 += 1\n",
        "    next5 = ugly[i5] * 5\n",
        "\n",
        "# n번째 못생긴 수를 출력\n",
        "print(ugly[n - 1])"
      ],
      "metadata": {
        "colab": {
          "base_uri": "https://localhost:8080/"
        },
        "id": "tQVNKkhi4pXy",
        "outputId": "51f7b847-d809-4d4e-e3f6-b43e4bc2de41"
      },
      "execution_count": 1,
      "outputs": [
        {
          "output_type": "stream",
          "name": "stdout",
          "text": [
            "10\n",
            "12\n"
          ]
        }
      ]
    }
  ]
}