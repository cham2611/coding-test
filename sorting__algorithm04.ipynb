{
  "nbformat": 4,
  "nbformat_minor": 0,
  "metadata": {
    "colab": {
      "provenance": []
    },
    "kernelspec": {
      "name": "python3",
      "display_name": "Python 3"
    },
    "language_info": {
      "name": "python"
    }
  },
  "cells": [
    {
      "cell_type": "code",
      "execution_count": 1,
      "metadata": {
        "colab": {
          "base_uri": "https://localhost:8080/"
        },
        "id": "-2Fya5jOD0ey",
        "outputId": "8948ba23-344f-45e8-a059-24b92e44c8bc"
      },
      "outputs": [
        {
          "output_type": "stream",
          "name": "stdout",
          "text": [
            "3\n",
            "10\n",
            "20\n",
            "40\n",
            "100\n"
          ]
        }
      ],
      "source": [
        "# 카드 정렬하기\n",
        "\n",
        "import heapq\n",
        "\n",
        "# 사용자로부터 카드 묶음의 개수를 입력받아 정수형으로 변환합니다.\n",
        "n = int(input())\n",
        "# 비어 있는 리스트를 생성합니다. 이 리스트는 힙(우선순위 큐)으로 사용될 것입니다.\n",
        "cards = []\n",
        "# 사용자로부터 n개의 카드 묶음 크기를 입력받아 힙에 추가합니다.\n",
        "for i in range(n):\n",
        "    # 사용자 입력을 정수형으로 변환하여 cards 힙에 추가합니다.\n",
        "    heapq.heappush(cards, int(input()))\n",
        "\n",
        "# 전체 비용을 저장할 변수를 0으로 초기화합니다.\n",
        "total_cost = 0\n",
        "# cards 힙에 카드 묶음이 한 개 이상 남아 있을 때까지 반복합니다.\n",
        "while len(cards) > 1:\n",
        "    # 가장 작은 두 카드 묶음을 힙에서 꺼냅니다.\n",
        "    a = heapq.heappop(cards)  # 가장 작은 카드 묶음\n",
        "    b = heapq.heappop(cards)  # 두 번째로 작은 카드 묶음\n",
        "\n",
        "    # 두 카드 묶음을 합칩니다.\n",
        "    sum_value = a + b\n",
        "\n",
        "    # 두 묶음을 합친 비용을 전체 비용에 누적합니다.\n",
        "    total_cost += sum_value\n",
        "    # 합친 결과를 다시 힙에 추가합니다. 이는 새로운 카드 묶음으로 처리됩니다.\n",
        "    heapq.heappush(cards, sum_value)\n",
        "\n",
        "# 모든 카드 묶음을 합치는데 드는 전체 비용을 출력합니다.\n",
        "print(total_cost)"
      ]
    }
  ]
}