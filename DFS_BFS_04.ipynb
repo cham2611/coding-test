{
  "nbformat": 4,
  "nbformat_minor": 0,
  "metadata": {
    "colab": {
      "provenance": []
    },
    "kernelspec": {
      "name": "python3",
      "display_name": "Python 3"
    },
    "language_info": {
      "name": "python"
    }
  },
  "cells": [
    {
      "cell_type": "code",
      "execution_count": 1,
      "metadata": {
        "id": "WcZBKi6r632c",
        "colab": {
          "base_uri": "https://localhost:8080/"
        },
        "outputId": "9d7070c7-da4a-4069-d527-eadfbdf38b33"
      },
      "outputs": [
        {
          "output_type": "stream",
          "name": "stdout",
          "text": [
            "5\n",
            "X S X X T\n",
            "T X S X X\n",
            "X X X X X\n",
            "X T X X X\n",
            "X X T X X\n",
            "YES\n"
          ]
        }
      ],
      "source": [
        " # 감시 피하기\n",
        "n = int(input())\n",
        "graph = [input().split() for _ in range(n)]\n",
        "\n",
        "teacher = 0 #선생님의 수를 세기 위한 변수를 0으로 초기화합니다\n",
        "for i in range(n):\n",
        "  graph[i].count('T') #각 행에 대해 'T'(선생님)가 몇 개 있는지 세어 teacher에 더합니다\n",
        "\n",
        "dx = [ -1, 1, 0, 0 ] # 상, 하, 좌, 우 이동을 나타냅니다.\n",
        "dy = [ 0, 0, -1, 1 ] # 상, 하, 좌, 우 이동을 나타냅니다.\n",
        "\n",
        "def view(x, y): # (x, y) 위치에서 네 방향으로 학생을 볼 수 있는지 없는지 판단하는 함수입니다.\n",
        "    for i in range(4):\n",
        "        nx = x + dx[i]\n",
        "        ny = y + dy[i]\n",
        "        while 0 <= nx < n and 0 <= ny < n and graph[nx][ny] != 'O': # 해당 방향으로 이동하며 벽('O')을 만나지 않는 한 계속 이동합니다.\n",
        "            if graph[nx][ny] == 'S': # 학생('S')을 만나면 False를 반환합니다.\n",
        "                return False\n",
        "            else: # 학생이나 벽을 만나지 않으면 계속 이동합니다.\n",
        "                nx += dx[i]\n",
        "                ny += dy[i]\n",
        "    return True # 네 방향 모두 학생을 만나지 않으면 True를 반환합니다.\n",
        "\n",
        "def backTracking(depth): # 장애물을 설치하는 모든 경우의 수를 탐색하는 백트래킹 함수입니다.\n",
        "    global answer # 전역 변수 answer를 사용하겠다고 선언합니다.\n",
        "    if depth == 3: # 장애물 3개를 모두 설치했으면,\n",
        "        cnt = 0 # 선생님이 학생을 볼 수 없는 경우의 수\n",
        "        for i in range(n):\n",
        "            for j in range(n):\n",
        "                if graph[i][j] == 'T': # 각 선생님 위치에서\n",
        "                    if view(i, j) == True: # 학생을 볼 수 없다면(장애물에 가려진다면),\n",
        "                        cnt += 1\n",
        "        if cnt == teacher: # 모든 선생님들이 학생을 볼 수 없게 되었다면,\n",
        "            answer = True\n",
        "        return\n",
        "    for i in range(n):\n",
        "        for j in range(n):\n",
        "            if graph[i][j] == 'X': # 빈 공간('X')에\n",
        "                graph[i][j] = 'O' # 장애물('O')을 설치하고,\n",
        "                backTracking(depth+1) # 다음 장애물 설치를 위해 재귀 호출합니다.\n",
        "                graph[i][j] = 'X' # 장애물 설치를 취소하고 원래 상태로 되돌립니다.\n",
        "\n",
        "\n",
        "answer = False # 선생님들이 학생을 볼 수 없게 하는 장애물 배치가 가능한지 여부를 저장하는 변수입니다.\n",
        "backTracking(0) # 백트래킹 함수 호출합니다.\n",
        "if answer: # 가능한 경우가 있으면 'YES'를,\n",
        "    print('YES')\n",
        "else:\n",
        "  print('NO') # 불가능하면 'NO'를 출력합니다."
      ]
    }
  ]
}