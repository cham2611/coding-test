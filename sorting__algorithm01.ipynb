{
  "nbformat": 4,
  "nbformat_minor": 0,
  "metadata": {
    "colab": {
      "provenance": []
    },
    "kernelspec": {
      "name": "python3",
      "display_name": "Python 3"
    },
    "language_info": {
      "name": "python"
    }
  },
  "cells": [
    {
      "cell_type": "code",
      "source": [
        "# 국영수\n",
        "n = int(input())\n",
        "\n",
        "graph=[]\n",
        "\n",
        "# 이름 국어 영어 수학\n",
        "for _ in range(n):\n",
        "  n,kor,eng,math = input().split()\n",
        "  graph.append([n, int(kor), int(eng),int(math)])\n",
        "\n",
        "graph.sort(key= lambda x: (-x[1], x[2], -x[3], x[0]))\n",
        "\n",
        "for i in graph:\n",
        "  print(i[0])"
      ],
      "metadata": {
        "id": "AAZ_7wbMDXeK",
        "colab": {
          "base_uri": "https://localhost:8080/"
        },
        "outputId": "cae0a8f2-b447-48a1-d299-40d978bf729f"
      },
      "execution_count": 3,
      "outputs": [
        {
          "output_type": "stream",
          "name": "stdout",
          "text": [
            "12\n",
            "Junkyu 50 60 100\n",
            "Sangkeun 80 60 50\n",
            "Sunyoung 80 70 100\n",
            "Soong 50 60 90\n",
            "Heaebin 50 60 100\n",
            "Kangsoo 60 80 100\n",
            "Doong 80 60 100\n",
            "Sei 70 70 70\n",
            "Wonseob 70 70 90\n",
            "Sanghyun 70 70 80\n",
            "nsj 80 80 80\n",
            "Taewhan 50 60 90\n",
            "Doong\n",
            "Sangkeun\n",
            "Sunyoung\n",
            "nsj\n",
            "Wonseob\n",
            "Sanghyun\n",
            "Sei\n",
            "Kangsoo\n",
            "Heaebin\n",
            "Junkyu\n",
            "Soong\n",
            "Taewhan\n"
          ]
        }
      ]
    },
    {
      "cell_type": "code",
      "source": [
        "# 국영수\n",
        "\n",
        "# 첫 번째 입력으로 받은 N은 학생의 수\n",
        "N = int(input())\n",
        "\n",
        "# N명의 학생 정보를 입력받아 2차원 리스트로 저장\n",
        "# 각 학생의 정보는 [이름, 국어 점수, 영어 점수, 수학 점수] 형태\n",
        "table = [list(input().split()) for _ in range(N)]\n",
        "\n",
        "# 학생 정보를 정렬하는 부분\n",
        "# 정렬 기준은 lambda 함수를 이용하여 설정\n",
        "# 정렬 기준 설명:\n",
        "# 1. -int(x[1]): 국어 점수를 기준으로 내림차순 정렬합니다. 점수가 높은 학생이 앞에 오도록 합니다.\n",
        "# '-' 기호를 사용함으로써 큰 수에서 작은 수로 정렬되게 합니다.\n",
        "# 2. int(x[2]): 영어 점수를 기준으로 오름차순 정렬합니다. 점수가 낮은 학생이 앞에 오도록 합니다.\n",
        "# 영어 점수는 작은 수에서 큰 수로 정렬되어야 하기 때문에 '-' 기호를 사용하지 않습니다.\n",
        "# 3. -int(x[3]): 수학 점수를 기준으로 내림차순 정렬합니다. 점수가 높은 학생이 앞에 오도록 합니다.\n",
        "# 수학 점수 역시 큰 수에서 작은 수로 정렬되어야 하므로 '-' 기호를 사용합니다.\n",
        "# 4. x[0]: 이름을 기준으로 오름차순 정렬합니다. 사전 순으로 앞에 오는 이름이 앞에 옵니다.\n",
        "# 이름은 문자열이기 때문에, 알파벳 오름차순(즉, A가 Z보다 앞에 오는)으로 정렬됩니다.\n",
        "table.sort(key=lambda x: (-int(x[1]), int(x[2]), -int(x[3]), x[0]))\n",
        "\n",
        "# 정렬된 학생 정보에서 이름만 순서대로 출력\n",
        "for student in table:\n",
        "    print(student[0])"
      ],
      "metadata": {
        "id": "Rr_6tO0-DdWO",
        "colab": {
          "base_uri": "https://localhost:8080/"
        },
        "outputId": "30f639f9-c9de-4cb4-8ea3-d3130547c6fc"
      },
      "execution_count": 1,
      "outputs": [
        {
          "output_type": "stream",
          "name": "stdout",
          "text": [
            "4\n",
            "j 50 60 100\n",
            "s 80 60 50\n",
            "ss 80 70 100\n",
            "so 50 60 90\n",
            "s\n",
            "ss\n",
            "j\n",
            "so\n"
          ]
        }
      ]
    }
  ]
}