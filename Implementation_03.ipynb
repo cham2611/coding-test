{
  "nbformat": 4,
  "nbformat_minor": 0,
  "metadata": {
    "colab": {
      "provenance": []
    },
    "kernelspec": {
      "name": "python3",
      "display_name": "Python 3"
    },
    "language_info": {
      "name": "python"
    }
  },
  "cells": [
    {
      "cell_type": "code",
      "execution_count": 9,
      "metadata": {
        "colab": {
          "base_uri": "https://localhost:8080/"
        },
        "id": "uXjrKtzCCpbm",
        "outputId": "c806b189-f479-4b00-dd2c-072faccf950a"
      },
      "outputs": [
        {
          "output_type": "stream",
          "name": "stdout",
          "text": [
            "5 3\n",
            "0 0 1 0 0\n",
            "0 0 2 0 1\n",
            "0 1 2 0 0\n",
            "0 0 1 0 0\n",
            "0 0 0 0 2\n",
            "5\n"
          ]
        }
      ],
      "source": [
        "# 치킨 배달 - 오류가 있는 풀이\n",
        "# abs -> 절대값\n",
        "\n",
        "n,m = map(int, input().split())\n",
        "city = [list(map(int,input().split())) for _ in range(n)]\n",
        "\n",
        "house = [] # 집의 좌표\n",
        "chick = [] # 치킨집의 좌표\n",
        "\n",
        "for i in range(n):\n",
        "  for j in range(n):\n",
        "    if city[i][j] ==1: # 1-> 집\n",
        "      house.append((i, j))\n",
        "    elif city[i][j] ==2:  # 2-> 치킨집\n",
        "      chick.append((i, j))\n",
        "\n",
        "\n",
        "result_list=[]\n",
        "\n",
        "for i in range(len(chick)):\n",
        "  chi_len=999\n",
        "  for j in range(len(house)):\n",
        "    chi_len=min(chi_len,abs(house[j][0]-chick[i][0])+abs(house[j][1]-chick[i][1]))\n",
        "    result_chick=j\n",
        "  result_list.append((result_chick,chi_len))\n",
        "  result_list.sort()\n",
        "\n",
        "result_m=0\n",
        "result=0\n",
        "\n",
        "for i in range(len(result_list)):\n",
        "  if result_list[0][0] != result_list[i][0]:\n",
        "    result_m+=1\n",
        "    if result_m > m-1:\n",
        "      break\n",
        "  result+= result_list[i][1]\n",
        "\n",
        "\n",
        "print(result)\n"
      ]
    },
    {
      "cell_type": "code",
      "source": [
        "# 치킨 배달\n",
        "# abs -> 절대값\n",
        "from itertools import combinations # combinations 함수는 주어진 반복 가능한 데이터에서 모든 가능한 조합을 생성\n",
        "\n",
        "n,m = map(int, input().split())\n",
        "city = [list(map(int,input().split())) for _ in range(n)]\n",
        "\n",
        "house = [] # 집의 좌표\n",
        "chick = [] # 치킨집의 좌표\n",
        "\n",
        "for i in range(n):\n",
        "  for j in range(n):\n",
        "    if city[i][j] ==1: # 1-> 집\n",
        "      house.append((i, j))\n",
        "    elif city[i][j] ==2:  # 2-> 치킨집\n",
        "      chick.append((i, j))\n",
        "\n",
        "# 모든 m개의 치킨집 조합에 대해서 반복\n",
        "for chi in combinations(chick, m):  # m개의 치킨집을 선택하는 모든 경우의 수\n",
        "    temp = 0  # 현재 치킨집 조합에 대한 도시의 치킨 거리를 임시 저장할 변수\n",
        "\n",
        "    # 모든 집에 대해서 반복\n",
        "    for h in house:\n",
        "        chi_len = 999  # 각 집에서 가장 가까운 치킨집까지의 거리를 임시 저장할 변수, 큰 값으로 초기화\n",
        "\n",
        "        # 선택된 m개의 치킨집 각각에 대해서 반복\n",
        "        for j in range(m):\n",
        "            # 현재 집과 선택된 치킨집 사이의 맨해튼 거리를 계산하고, 이전에 계산한 거리와 비교하여 더 작은 값을 chi_len에 저장\n",
        "            chi_len = min(chi_len, abs(h[0] - chi[j][0]) + abs(h[1] - chi[j][1]))\n",
        "\n",
        "        # 현재 집의 치킨 거리를 temp에 더함 (도시의 치킨 거리 계산)\n",
        "        temp += chi_len\n",
        "\n",
        "    # 현재 치킨집 조합에 대한 도시의 치킨 거리(temp)와 이전까지 계산된 도시의 치킨 거리 중 최소값(result)와 비교하여 더 작은 값을 result에 저장\n",
        "    result = min(result, temp)\n",
        "\n",
        "# 최종 계산된 도시의 치킨 거리 중 최소값을 출력\n",
        "print(result)"
      ],
      "metadata": {
        "colab": {
          "base_uri": "https://localhost:8080/"
        },
        "id": "L58GE_CfIiCp",
        "outputId": "3315eadc-e8d7-4063-c825-967ed13e8d25"
      },
      "execution_count": 13,
      "outputs": [
        {
          "output_type": "stream",
          "name": "stdout",
          "text": [
            "5 3\n",
            "0 0 1 0 0\n",
            "0 0 2 0 1\n",
            "0 1 2 0 0\n",
            "0 0 1 0 0\n",
            "0 0 0 0 2\n",
            "5\n"
          ]
        }
      ]
    },
    {
      "cell_type": "code",
      "source": [
        "# 외벽 점검을 위한 솔루션 함수 정의\n",
        "import itertools\n",
        "def solution(n, weak, dist):\n",
        "    length = len(weak) # 취약 지점의 개수. 취약 지점 배열의 길이입니다.\n",
        "    # 1. weak 배열의 길이를 2배로 늘리기\n",
        "    # 원형 구조를 선형으로 바꾸기 위해, 기존 취약 지점 위치에 n을 더한 값을 추가합니다.\n",
        "    for i in range(length):\n",
        "        weak.append(weak[i]+n)\n",
        "    # 2. 투입할 친구의 최솟값을 찾기 위해 최댓값보다 1 큰 값으로 초기화\n",
        "    # 모든 친구를 투입해도 해결이 안 될 경우를 고려해 최댓값(len(dist)+1)으로 설정합니다.\n",
        "    answer = len(dist)+1\n",
        "    # 3. 0부터 length-1까지 start 이동하면서 찾기\n",
        "    # 각 시작점마다 모든 친구의 순열을 고려하여 최소 친구 수를 찾습니다.\n",
        "    for start in range(length):\n",
        "        # dist 배열의 모든 순열에 대해 반복합니다.\n",
        "        # itertools의 permutations 함수를 사용하여 dist 배열의 모든 가능한 순서를 고려합니다.\n",
        "        for friends in list(itertools.permutations(dist,len(dist))):\n",
        "            count = 1 # 투입할 친구 수. 현재까지 투입된 친구의 수를 나타냅니다.\n",
        "            # 현재 친구가 점검 가능한 마지막 위치입니다. 이 위치는 친구가 이동할 수 있는 거리를 고려하여 계산됩니다.\n",
        "            position = weak[start]+friends[count-1]\n",
        "            # 시작점 부터 모든 취약지점 확인합니다.\n",
        "            for i in range(start, start+length):\n",
        "                # 현재 친구가 점검할 수 없는 위치에 도달한 경우\n",
        "                if position < weak[i] :\n",
        "                    count += 1 # 추가 친구 투입. 취약 지점을 점검하는 과정에서 친구를 추가로 투입할 필요가 있을 때마다 증가합니다.\n",
        "                    if count > len(dist): # 모든 친구를 투입했는데도 불가능한 경우\n",
        "                        break\n",
        "                    # 새로 투입된 친구가 점검할 수 있는 마지막 위치 업데이트합니다.\n",
        "                    position = weak[i]+friends[count-1]\n",
        "\n",
        "            # 최소 친구 수 업데이트. 문제의 해답을 나타내는 변수로, 취약 지점을 점검하기 위해 필요한 최소 친구 수를 저장합니다.\n",
        "            answer = min(count,answer)\n",
        "\n",
        "    # 모든 취약 지점을 점검할 수 있는 친구 수를 찾지 못한 경우 -1 반환합니다.\n",
        "    if answer > len(dist):\n",
        "        return -1\n",
        "    return answer"
      ],
      "metadata": {
        "id": "TfN4fO24kVIn"
      },
      "execution_count": 12,
      "outputs": []
    }
  ]
}