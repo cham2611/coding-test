{
  "nbformat": 4,
  "nbformat_minor": 0,
  "metadata": {
    "colab": {
      "provenance": []
    },
    "kernelspec": {
      "name": "python3",
      "display_name": "Python 3"
    },
    "language_info": {
      "name": "python"
    }
  },
  "cells": [
    {
      "cell_type": "code",
      "execution_count": 6,
      "metadata": {
        "colab": {
          "base_uri": "https://localhost:8080/"
        },
        "id": "mT4b5SWqrkq4",
        "outputId": "c0c2e62f-fed9-436f-ed15-d65f42445d79"
      },
      "outputs": [
        {
          "output_type": "stream",
          "name": "stdout",
          "text": [
            "3\n"
          ]
        }
      ],
      "source": [
        "# 8-1 피보나치 함수 소스코드\n",
        "# 피보나치함수(Fibonacci Function)를 재귀 함수로 구현\n",
        "# ex) 1 1 2 3 5 8 13 21 34 55 89\n",
        "# 이전 두항의 합을 현재 항으로 설정하는 특징이 있는 수열\n",
        "def fibo(x):\n",
        "  if x==1 or x ==2:\n",
        "    return 1\n",
        "  return fibo(x-1)+fibo(x-2)\n",
        "\n",
        "\n",
        "print(fibo(4))"
      ]
    },
    {
      "cell_type": "code",
      "source": [
        "# 8-2 피보나치 수열 소스코드(재귀적)\n",
        "# 한번 계산된 결과를 메모이제이션하기 위한 리스트 초기화\n",
        "# 메모이제이션은 값을 저장하는 방법을 캐싱\n",
        "d = [0]*100\n",
        "\n",
        "# 피보나치 함수를 재귀함수로 구현(탑다운 다이마닉 프로그래밍)\n",
        "def fibo(x):\n",
        "  #종료 조건(1혹은 2일 때 1반환)\n",
        "  if x ==1 or x==2:\n",
        "    return 1\n",
        "\n",
        "  # 이미 계산한 적 있는 문제라면 그대로 반환\n",
        "  if d[x] != 0:\n",
        "    return d[x]\n",
        "\n",
        "  # 아직 계산하지 않은 문제라면 점화식에 따라서 피보나치 결과 반환\n",
        "  d[x] = fibo(x-1)+fibo(x-2)\n",
        "  return d[x]\n",
        "\n",
        "print(fibo(99))"
      ],
      "metadata": {
        "colab": {
          "base_uri": "https://localhost:8080/"
        },
        "id": "mOnZdM081iqA",
        "outputId": "c9023cae-6cdb-4c07-caaf-89abdd3bbcc9"
      },
      "execution_count": 8,
      "outputs": [
        {
          "output_type": "stream",
          "name": "stdout",
          "text": [
            "218922995834555169026\n"
          ]
        }
      ]
    },
    {
      "cell_type": "code",
      "source": [
        "# 8-3 호출되는 함수 확인\n",
        "# 큰문제를 해결하기 위해 작은 문제를 호출핟나고 하여 탑다운 방식\n",
        "d = [0]*100\n",
        "\n",
        "def pibox(x):\n",
        "  print('f('+str(x)+')', end=' ')\n",
        "  if x ==1 or x==2:\n",
        "    return 1\n",
        "  if d[x] != 0:\n",
        "    return d[x]\n",
        "  d[x]= pibox(x-1)+ pibox(x-2)\n",
        "  return d[x]\n",
        "\n",
        "pibox(6)"
      ],
      "metadata": {
        "colab": {
          "base_uri": "https://localhost:8080/"
        },
        "id": "hRP3oNDi1tDc",
        "outputId": "b0cf7f62-818f-4b5c-80f7-cda0a291e8eb"
      },
      "execution_count": 3,
      "outputs": [
        {
          "output_type": "stream",
          "name": "stdout",
          "text": [
            "f(6) f(5) f(4) f(3) f(2) f(1) f(2) f(3) f(4) "
          ]
        },
        {
          "output_type": "execute_result",
          "data": {
            "text/plain": [
              "8"
            ]
          },
          "metadata": {},
          "execution_count": 3
        }
      ]
    },
    {
      "cell_type": "code",
      "source": [
        "# 8-4 피보나치 수열 소스코드(반복적)\n",
        "# 보텀업방식: 반복문을 이용하여 소스 코드를 작성하는 경우 작은 문제부터 차근차근 답을 도출한다\n",
        "\n",
        "d = [0]*100\n",
        "\n",
        "# 첫번째 피보나치 수와 두번째 피보나치 수는 1\n",
        "d[1]=1\n",
        "d[2]=1\n",
        "n=99\n",
        "\n",
        "# 피보나치 함수 반복문으로 구현(보텀엄 다이나믹 프로그래밍)\n",
        "for i in range(3, n+1):\n",
        "  d[i]=d[i-1]+d[i-2]\n",
        "\n",
        "print(d[n])"
      ],
      "metadata": {
        "colab": {
          "base_uri": "https://localhost:8080/"
        },
        "id": "vPnxsLNG1tJR",
        "outputId": "ef5301e6-078d-417c-e258-4709b73b8ef3"
      },
      "execution_count": 2,
      "outputs": [
        {
          "output_type": "stream",
          "name": "stdout",
          "text": [
            "218922995834555169026\n"
          ]
        }
      ]
    },
    {
      "cell_type": "code",
      "source": [
        "# 8-5 1로 만들기\n",
        "\n",
        "x = int(input())\n",
        "\n",
        "d = [0]*100\n",
        "\n",
        "# 다이나믹 프로그래밍 진행(보텁업)\n",
        "for i in range(2, x+1):\n",
        "  # 현재의 수에서 1를 빼는 경우\n",
        "  d[i]=d[i-1]+1\n",
        "  # 현재의 수가 2로 나누어 떨어지는 경우\n",
        "  if i%2==0:\n",
        "    d[i]= min(d[i],d[i//2]+1)\n",
        "  # 현재의 수가 3으로 나누어 떨어지는 경우\n",
        "  if i%3==0:\n",
        "    d[i]= min(d[i],d[i//3]+1)\n",
        "  # 현재의 수ㅏ 5로 나누어 떨어지는 경우\n",
        "  if i%5==0:\n",
        "    d[i]= min(d[i],d[i//5]+1)\n",
        "\n",
        "print(d[x])"
      ],
      "metadata": {
        "colab": {
          "base_uri": "https://localhost:8080/"
        },
        "id": "SSvXW8LL5G2O",
        "outputId": "34284bad-4dac-46dc-d764-cd55196fe9ee"
      },
      "execution_count": 9,
      "outputs": [
        {
          "output_type": "stream",
          "name": "stdout",
          "text": [
            "26\n",
            "3\n"
          ]
        }
      ]
    },
    {
      "cell_type": "code",
      "source": [
        "#8-6 개미 전사\n",
        "\n",
        "n = int(input())\n",
        "\n",
        "array = list(map(int, input().split()))\n",
        "\n",
        "d= [0]*100\n",
        "\n",
        "# 다이나믹 프로그래밍 진행(보텀업)\n",
        "d[0]=array[0]\n",
        "d[1]=max(array[0],array[1])\n",
        "for i in range(2,n):\n",
        "  d[i]=max(d[i-1],d[i-2]+array[i])\n",
        "\n",
        "print(d[n-1])"
      ],
      "metadata": {
        "colab": {
          "base_uri": "https://localhost:8080/"
        },
        "id": "oBkGsTWo5gbd",
        "outputId": "e82bdcdc-63c4-4f37-c22d-693223b99ed5"
      },
      "execution_count": 11,
      "outputs": [
        {
          "output_type": "stream",
          "name": "stdout",
          "text": [
            "4\n",
            "1 3 1 5\n",
            "8\n"
          ]
        }
      ]
    },
    {
      "cell_type": "code",
      "source": [
        "# 8-7 바닥 공사\n",
        "\n",
        "n =int(input())\n",
        "\n",
        "d=[0]*100\n",
        "\n",
        "#다이나믹프로그래밍 진행(보텀업)\n",
        "d[1]=1\n",
        "d[2]=3\n",
        "for i in range(3, n+1):\n",
        "  d[i] = (d[i-1]+2*d[i-2])%796796\n",
        "\n",
        "print(d[n])"
      ],
      "metadata": {
        "colab": {
          "base_uri": "https://localhost:8080/"
        },
        "id": "Ds5Hy_Np5glv",
        "outputId": "7b250d80-3c52-41db-ff93-1df80730a100"
      },
      "execution_count": 12,
      "outputs": [
        {
          "output_type": "stream",
          "name": "stdout",
          "text": [
            "3\n",
            "5\n"
          ]
        }
      ]
    },
    {
      "cell_type": "code",
      "source": [
        "# 8-8 효율적인 화폐 구성\n",
        "\n",
        "n,m = map(int, input().split())\n",
        "\n",
        "array=[]\n",
        "for i in range(n):\n",
        "  array.append(int(input()))\n",
        "\n",
        "d = [10001] * (m + 1)\n",
        "\n",
        "# 다이나믹 프로그래밍(Dynamic Programming) 진행(보텀업)\n",
        "d[0] = 0\n",
        "for i in range(n):\n",
        "    for j in range(array[i], m + 1):\n",
        "        if d[j - array[i]] != 10001: # (i - k)원을 만드는 방법이 존재하는 경우\n",
        "            d[j] = min(d[j], d[j - array[i]] + 1)\n",
        "\n",
        "# 계산된 결과 출력\n",
        "if d[m] == 10001: # 최종적으로 M원을 만드는 방법이 없는 경우\n",
        "    print(-1)\n",
        "else:\n",
        "    print(d[m])"
      ],
      "metadata": {
        "colab": {
          "base_uri": "https://localhost:8080/"
        },
        "id": "HHij7yTr5g3B",
        "outputId": "336d90bb-dccf-4a7b-a94e-6063e836550d"
      },
      "execution_count": 13,
      "outputs": [
        {
          "output_type": "stream",
          "name": "stdout",
          "text": [
            "3 4\n",
            "3\n",
            "5\n",
            "7\n",
            "-1\n"
          ]
        }
      ]
    }
  ]
}