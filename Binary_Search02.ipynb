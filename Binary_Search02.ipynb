{
  "nbformat": 4,
  "nbformat_minor": 0,
  "metadata": {
    "colab": {
      "provenance": []
    },
    "kernelspec": {
      "name": "python3",
      "display_name": "Python 3"
    },
    "language_info": {
      "name": "python"
    }
  },
  "cells": [
    {
      "cell_type": "code",
      "execution_count": 4,
      "metadata": {
        "colab": {
          "base_uri": "https://localhost:8080/"
        },
        "id": "ZmhE1zVbo_ZR",
        "outputId": "c3be691f-924b-4546-c66a-bf1d0623b6b4"
      },
      "outputs": [
        {
          "output_type": "stream",
          "name": "stdout",
          "text": [
            "7\n",
            "-15 -4 3 8 9 13 15\n",
            "-1\n"
          ]
        }
      ],
      "source": [
        "# 고정점 찾기\n",
        "n= int(input())\n",
        "\n",
        "num= list(map(int, input().split()))\n",
        "\n",
        "num.sort()\n",
        "\n",
        "fix_num= None\n",
        "\n",
        "for i in range(n):\n",
        "  if num[i] == i:\n",
        "    fix_num = num[i]\n",
        "\n",
        "if fix_num == None:\n",
        "  print(-1)\n",
        "else:\n",
        "  print(fix_num)"
      ]
    },
    {
      "cell_type": "code",
      "source": [
        "# 고정점 찾기 -> 책 풀이\n",
        "\n",
        "def fixed_point(array, start, end):\n",
        "    # 탐색 범위를 벗어난 경우 None 반환\n",
        "    if start > end:\n",
        "        return None\n",
        "    # 중간점 인덱스 계산\n",
        "    mid = (start + end) // 2\n",
        "    # 고정점을 찾은 경우 (인덱스와 해당 인덱스의 값이 동일한 경우), 해당 인덱스 반환\n",
        "    if array[mid] == mid:\n",
        "        return mid\n",
        "    # 중간점의 값이 인덱스보다 큰 경우, 왼쪽 부분에서 고정점 탐색\n",
        "    elif array[mid] > mid:\n",
        "        return fixed_point(array, start, mid-1)\n",
        "    # 중간점의 값이 인덱스보다 작은 경우, 오른쪽 부분에서 고정점 탐색\n",
        "    else:\n",
        "        return fixed_point(array, mid+1, end)\n",
        "\n",
        "# 입력 받기\n",
        "n = int(input())  # 배열의 크기\n",
        "array = list(map(int, input().split()))  # 배열의 원소 입력 받기\n",
        "\n",
        "# 고정점 탐색 실행\n",
        "point = fixed_point(array, 0, n-1)\n",
        "\n",
        "# 결과 출력\n",
        "# 고정점이 없는 경우 -1 출력\n",
        "if point == None:\n",
        "    print(-1)\n",
        "# 고정점이 있는 경우 해당 인덱스 출력\n",
        "else:\n",
        "    print(point)"
      ],
      "metadata": {
        "colab": {
          "base_uri": "https://localhost:8080/"
        },
        "id": "wTCU67CJW2ek",
        "outputId": "1ef5aa87-04f3-48d9-d374-a5f2f57e6bcf"
      },
      "execution_count": 2,
      "outputs": [
        {
          "output_type": "stream",
          "name": "stdout",
          "text": [
            "7\n",
            "-15 -4 3 8 9 13 15\n",
            "-1\n"
          ]
        }
      ]
    }
  ]
}