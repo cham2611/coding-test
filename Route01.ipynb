{
  "nbformat": 4,
  "nbformat_minor": 0,
  "metadata": {
    "colab": {
      "provenance": []
    },
    "kernelspec": {
      "name": "python3",
      "display_name": "Python 3"
    },
    "language_info": {
      "name": "python"
    }
  },
  "cells": [
    {
      "cell_type": "code",
      "execution_count": 3,
      "metadata": {
        "colab": {
          "base_uri": "https://localhost:8080/"
        },
        "id": "EuVYxBuYUZxc",
        "outputId": "d295d50b-cddb-471b-ee67-969942b50e17"
      },
      "outputs": [
        {
          "output_type": "stream",
          "name": "stdout",
          "text": [
            "5\n",
            "14\n",
            "1 2 2\n",
            "1 3 3\n",
            "1 4 1\n",
            "1 5 10\n",
            "2 4 2\n",
            "3 4 1\n",
            "3 5 1\n",
            "4 5 3\n",
            "3 5 10\n",
            "3 1 8\n",
            "1 4 2\n",
            "5 1 7\n",
            "3 4 2\n",
            "5 2 4\n",
            "[2, 3, 1, 10, 2, 1, 1, 3, 10, 8, 2, 7, 2, 4]\n"
          ]
        }
      ],
      "source": [
        "# 플로이드 : 오류\n",
        "\n",
        "n= int(input())\n",
        "m= int(input())\n",
        "\n",
        "result =[list(map(int, input().split())) for _ in range(m)]\n",
        "\n",
        "answer =[]\n",
        "\n",
        "for i in range(m):\n",
        "      answer.append(result[i][2])\n",
        "\n",
        "print(answer)"
      ]
    },
    {
      "cell_type": "code",
      "source": [
        "# 플로이드 : 책 풀이\n",
        "INF = int(1e9)\n",
        "\n",
        "\n",
        "N = int(input())\n",
        "M = int(input())\n",
        "\n",
        "graph = [[INF] * (N+1) for _ in range(N+1)]\n",
        "for i in range(1, N+1):\n",
        "    graph[i][i] = 0\n",
        "\n",
        "for _ in range(M):\n",
        "    a, b, c = map(int, input().split())\n",
        "\n",
        "    graph[a][b] = min(graph[a][b], c)\n",
        "\n",
        "for k in range(1, N+1):\n",
        "    for a in range(1, N+1):\n",
        "        for b in range(1, N+1):\n",
        "            graph[a][b] = min(graph[a][b], graph[a][k] + graph[k][b])\n",
        "\n",
        "for x in range(1, N+1):\n",
        "    for y in range(1, N+1):\n",
        "        if graph[x][y] == INF: print(0, end=' ')\n",
        "        else: print(graph[x][y], end=' ')\n",
        "    print()"
      ],
      "metadata": {
        "colab": {
          "base_uri": "https://localhost:8080/"
        },
        "id": "lBVj95ouWwU1",
        "outputId": "f752bde7-2af9-45c3-d868-b44a2aab7e66"
      },
      "execution_count": 1,
      "outputs": [
        {
          "output_type": "stream",
          "name": "stdout",
          "text": [
            "5\n",
            "14\n",
            "1 2 2\n",
            "1 3 3\n",
            "1 4 1\n",
            "1 5 10\n",
            "2 4 2\n",
            "3 4 1\n",
            "3 5 1\n",
            "4 5 3\n",
            "3 5 10\n",
            "3 1 8\n",
            "1 4 2\n",
            "5 1 7\n",
            "3 4 2\n",
            "5 2 4\n",
            "0 2 3 1 4 \n",
            "12 0 15 2 5 \n",
            "8 5 0 1 1 \n",
            "10 7 13 0 3 \n",
            "7 4 10 6 0 \n"
          ]
        }
      ]
    }
  ]
}