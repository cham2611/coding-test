{
  "nbformat": 4,
  "nbformat_minor": 0,
  "metadata": {
    "colab": {
      "provenance": []
    },
    "kernelspec": {
      "name": "python3",
      "display_name": "Python 3"
    },
    "language_info": {
      "name": "python"
    }
  },
  "cells": [
    {
      "cell_type": "code",
      "execution_count": 3,
      "metadata": {
        "colab": {
          "base_uri": "https://localhost:8080/"
        },
        "id": "5V52VHeIcXvj",
        "outputId": "75e14fd4-74d9-441a-9931-4ad3f12b879e"
      },
      "outputs": [
        {
          "output_type": "stream",
          "name": "stdout",
          "text": [
            "5\n",
            "3 2 1 1 9\n",
            "8\n"
          ]
        }
      ],
      "source": [
        "# 만들 수 없는 금액\n",
        "# 5\n",
        "# 3 2 1 1 9\n",
        "\n",
        "n = int(input())  # 동전의 개수 입력 받기\n",
        "m = list(map(int, input().split()))  # 각 동전의 값 입력 받기\n",
        "\n",
        "m.sort()  # 동전을 오름차순으로 정렬\n",
        "\n",
        "target = 1  # 만들 수 없는 가장 작은 금액을 찾기 위한 시작점\n",
        "\n",
        "for i in m:  # 정렬된 동전을 순회하며\n",
        "    if i <= target:  # 현재 동전의 값이 target 이하라면,\n",
        "        target += i  # target 값을 현재 동전의 값만큼 증가시켜 만들 수 있는 금액의 범위를 확장\n",
        "    else:  # 현재 동전의 값이 target보다 크다면,\n",
        "        break  # 만들 수 없는 가장 작은 금액을 찾았으므로 반복문 종료\n",
        "\n",
        "print(target)  # 만들 수 없는 가장 작은 금액 출력"
      ]
    },
    {
      "cell_type": "code",
      "source": [
        "# 볼링공 고르기\n",
        "n, m= map(int ,input().split())\n",
        "\n",
        "array =list(map(int,input().split()))\n",
        "\n",
        "result =0\n",
        "\n",
        "for i in range(len(array)-1):\n",
        "  for j in range(i+1, len(array)):\n",
        "    if array[i]==array[j]:\n",
        "      continue\n",
        "    result+=1\n",
        "\n",
        "print(result)\n",
        "\n"
      ],
      "metadata": {
        "colab": {
          "base_uri": "https://localhost:8080/"
        },
        "id": "imwTmwWa7SGZ",
        "outputId": "0d16597d-5501-493f-8b9a-2a29afee3387"
      },
      "execution_count": 8,
      "outputs": [
        {
          "output_type": "stream",
          "name": "stdout",
          "text": [
            "5 3\n",
            "1 3 2 3 2\n",
            "8\n"
          ]
        }
      ]
    },
    {
      "cell_type": "code",
      "source": [
        "# 볼링공 고르기  책 풀이\n",
        "\n",
        "n, m= map(int ,input().split())\n",
        "\n",
        "data =list(map(int,input().split()))\n",
        "\n",
        "# 1부터 10까지의 무게를 담을 수 있는 리스트\n",
        "array=[0]*11\n",
        "\n",
        "for x in data:\n",
        "  #각 무게에 ㅎ당하는 볼링공의 개수 카운트\n",
        "  array[x]+=1\n",
        "\n",
        "result=0\n",
        "\n",
        "#1부터 m까지의 각 무게에 대하여 처리\n",
        "for i in range(1, m+1):\n",
        "  n-=array[i] # 무게가 i인 볼링공의 개수 제외\n",
        "  result+= array[i]*n # B가 선택하는 경우의 수와 곱하기\n",
        "\n",
        "print(result)"
      ],
      "metadata": {
        "colab": {
          "base_uri": "https://localhost:8080/"
        },
        "id": "R7SDN-2azPxy",
        "outputId": "31dc8caf-c0db-4966-a7e2-91ddf67f529e"
      },
      "execution_count": 4,
      "outputs": [
        {
          "output_type": "stream",
          "name": "stdout",
          "text": [
            "5 3\n",
            "1 3 2 3 2\n",
            "8\n"
          ]
        }
      ]
    },
    {
      "cell_type": "code",
      "source": [
        "# 무지의 먹방 라이브\n",
        "import heapq\n",
        "\n",
        "def solution(food_times, k):\n",
        "    if sum(food_times) <= k:\n",
        "        return -1\n",
        "\n",
        "    q = []\n",
        "\n",
        "    for i in range(len(food_times)):\n",
        "        heapq.heappush(q, (food_times[i], i))\n",
        "\n",
        "    used = 0\n",
        "    previous = 0\n",
        "    remain = len(food_times)\n",
        "\n",
        "    while (used + ((q[0][0] - previous) * remain) <= k):\n",
        "        now = heapq.heappop(q)[0]\n",
        "        used = used + (now - previous) * remain\n",
        "        remain = remain - 1\n",
        "        previous = now\n",
        "\n",
        "    answer = sorted(q, key=lambda x: x[1])\n",
        "    return answer[(k - used) % remain][1]\n"
      ],
      "metadata": {
        "id": "44vgkOY68V55"
      },
      "execution_count": 5,
      "outputs": []
    }
  ]
}