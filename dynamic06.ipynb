{
  "nbformat": 4,
  "nbformat_minor": 0,
  "metadata": {
    "colab": {
      "provenance": []
    },
    "kernelspec": {
      "name": "python3",
      "display_name": "Python 3"
    },
    "language_info": {
      "name": "python"
    }
  },
  "cells": [
    {
      "cell_type": "code",
      "execution_count": 9,
      "metadata": {
        "colab": {
          "base_uri": "https://localhost:8080/"
        },
        "id": "KNzmkrD7HqYU",
        "outputId": "d5175691-676d-4e15-ad52-7eb568335eb9"
      },
      "outputs": [
        {
          "output_type": "stream",
          "name": "stdout",
          "text": [
            "sunday\n",
            "saturday\n",
            "7\n"
          ]
        }
      ],
      "source": [
        "# 편집 거리 : 오류\n",
        "word1 = input()\n",
        "word2 = input()\n",
        "\n",
        "result = 0\n",
        "\n",
        "for i in range(len(word2)):\n",
        "  if i  >=len(word1):\n",
        "    result+=1\n",
        "  elif word1[i] != word2[i]:\n",
        "    result+=1\n",
        "\n",
        "print(result)\n"
      ]
    },
    {
      "cell_type": "code",
      "source": [
        "# 편집 거리 : 책 풀이\n",
        "word1 = input()\n",
        "word2 = input()\n",
        "\n",
        "len1 = len(word1)\n",
        "len2 = len(word2)\n",
        "\n",
        "dp = [[0] * (len2 + 1) for _ in range(len1 + 1)]\n",
        "\n",
        "for i in range(1, len1 + 1) :\n",
        "    dp[i][0] = i\n",
        "\n",
        "for i in range(1, len2 + 1) :\n",
        "    dp[0][i] = i\n",
        "\n",
        "\n",
        "for i in range(1, len1 + 1) :\n",
        "    for j in range(1, len2 + 1) :\n",
        "        if word1[i-1] == word2[j-1] :\n",
        "            dp[i][j] =  dp[i-1][j-1]\n",
        "\n",
        "        else :\n",
        "            dp[i][j] = min(dp[i-1][j], dp[i][j-1], dp[i-1][j-1]) + 1\n",
        "\n",
        "print(dp[len1][len2])"
      ],
      "metadata": {
        "colab": {
          "base_uri": "https://localhost:8080/"
        },
        "id": "JGmnt-TjI-iP",
        "outputId": "93972ed7-70b8-4d96-ce55-609f564aecc4"
      },
      "execution_count": 1,
      "outputs": [
        {
          "output_type": "stream",
          "name": "stdout",
          "text": [
            "sunday\n",
            "saturday\n",
            "3\n"
          ]
        }
      ]
    }
  ]
}