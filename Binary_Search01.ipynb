{
  "nbformat": 4,
  "nbformat_minor": 0,
  "metadata": {
    "colab": {
      "provenance": []
    },
    "kernelspec": {
      "name": "python3",
      "display_name": "Python 3"
    },
    "language_info": {
      "name": "python"
    }
  },
  "cells": [
    {
      "cell_type": "code",
      "execution_count": 4,
      "metadata": {
        "colab": {
          "base_uri": "https://localhost:8080/"
        },
        "id": "S37femC1iXo4",
        "outputId": "161960df-f084-4ecb-95cc-3fc508e4f43a"
      },
      "outputs": [
        {
          "output_type": "stream",
          "name": "stdout",
          "text": [
            "7 2\n",
            "1 1 2 2 2 2 3\n",
            "4\n"
          ]
        }
      ],
      "source": [
        "# 정렬된 배열에서 특정 수의 개수 구하기\n",
        "\n",
        "n, m =map(int, input().split())\n",
        "\n",
        "num =list(map(int, input().split()))\n",
        "\n",
        "count = 0\n",
        "for i in range(n):\n",
        "  if num[i]==m:\n",
        "    count+=1\n",
        "\n",
        "print(count)"
      ]
    },
    {
      "cell_type": "code",
      "source": [
        "# 정렬된 배열에서 특정 수의 개수 구하기 -> 정답\n",
        "def count_by_value(array, x):\n",
        "    # 데이터의 전체 개수를 n에 저장\n",
        "    n = len(array)\n",
        "\n",
        "    # x가 처음 등장한 인덱스를 a에 저장\n",
        "    a = first(array, x, 0, n-1)\n",
        "\n",
        "    # 수열에 x가 존재하지 않는 경우 0을 반환\n",
        "    if a == None:\n",
        "        return 0\n",
        "\n",
        "    # x가 마지막으로 등장한 인덱스를 b에 저장\n",
        "    b = last(array, x, 0, n-1)\n",
        "\n",
        "    # b - a + 1을 통해 x의 총 개수를 반환\n",
        "    return b - a + 1\n",
        "\n",
        "# 처음 위치를 찾는 이진 탐색 함수\n",
        "def first(array, target, start, end):\n",
        "    if start > end:\n",
        "        return None\n",
        "    # 중간점 계산\n",
        "    mid = (start + end) // 2\n",
        "    # 중간점이 첫 번째이거나 중간점의 바로 앞 원소가 target보다 작고, 현재 원소가 target일 경우\n",
        "    # 해당 인덱스(mid) 반환\n",
        "    if (mid == 0 or target > array[mid-1]) and array[mid] == target:\n",
        "        return mid\n",
        "    # 중간점의 값이 target보다 크거나 같으면 왼쪽 부분 탐색\n",
        "    elif array[mid] >= target:\n",
        "        return first(array, target, start, mid - 1)\n",
        "    # 중간점의 값이 target보다 작으면 오른쪽 부분 탐색\n",
        "    else:\n",
        "        return first(array, target, mid+1, end)\n",
        "\n",
        "# 마지막 위치를 찾는 이진 탐색 함수\n",
        "def last(array, target, start, end):\n",
        "    if start > end:\n",
        "        return None\n",
        "    # 중간점 계산\n",
        "    mid = (start + end) // 2\n",
        "    # 중간점이 마지막이거나 중간점의 바로 다음 원소가 target보다 크고, 현재 원소가 target일 경우\n",
        "    # 해당 인덱스(mid) 반환\n",
        "    if (mid == n-1 or target < array[mid+1]) and array[mid] == target:\n",
        "        return mid\n",
        "    # 중간점의 값이 target보다 크면 왼쪽 부분 탐색\n",
        "    elif array[mid] > target:\n",
        "        return last(array, target, start, mid-1)\n",
        "    # 중간점의 값이 target보다 작거나 같으면 오른쪽 부분 탐색\n",
        "    else:\n",
        "        return last(array, target, mid+1, end)\n",
        "\n",
        "# 입력 받기\n",
        "n, x = map(int, input().split())  # n: 배열의 길이, x: 찾고자 하는 값\n",
        "array = list(map(int, input().split()))  # 정렬된 배열 입력 받기\n",
        "\n",
        "# 함수 실행 및 결과 출력\n",
        "count = count_by_value(array, x)\n",
        "\n",
        "# x의 개수가 0이면 -1 출력, 아니면 개수 출력\n",
        "if count == 0:\n",
        "    print(-1)\n",
        "else:\n",
        "    print(count)"
      ],
      "metadata": {
        "colab": {
          "base_uri": "https://localhost:8080/"
        },
        "id": "R7dUAT1GmKoN",
        "outputId": "74573653-5081-403a-d41f-a3c0a411c3fe"
      },
      "execution_count": 7,
      "outputs": [
        {
          "output_type": "stream",
          "name": "stdout",
          "text": [
            "7 2\n",
            "1 1 2 2 2 2 3\n",
            "4\n"
          ]
        }
      ]
    }
  ]
}