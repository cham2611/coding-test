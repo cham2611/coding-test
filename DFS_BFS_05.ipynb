{
  "nbformat": 4,
  "nbformat_minor": 0,
  "metadata": {
    "colab": {
      "provenance": []
    },
    "kernelspec": {
      "name": "python3",
      "display_name": "Python 3"
    },
    "language_info": {
      "name": "python"
    }
  },
  "cells": [
    {
      "cell_type": "code",
      "execution_count": 3,
      "metadata": {
        "id": "GOvmmuFkO-tb",
        "colab": {
          "base_uri": "https://localhost:8080/"
        },
        "outputId": "1ffb996a-8aed-4f52-ebea-a31c8842c657"
      },
      "outputs": [
        {
          "output_type": "stream",
          "name": "stdout",
          "text": [
            "2 20 50\n",
            "50 30\n",
            "20 40\n",
            "1\n"
          ]
        }
      ],
      "source": [
        "# 인구 이동\n",
        "from collections import deque\n",
        "\n",
        "N, L, R = map(int, input().split()) # N크기 / L명이상 / R명이하\n",
        "\n",
        "graph = [list(map(int,input().split())) for _ in range(N)]\n",
        "\n",
        "dx=[-1,1,0,0] #상하좌우\n",
        "dy=[0,0,-1,1] #상하좌우\n",
        "\n",
        "cnt = 0 # 인구 이동 발생 횟수\n",
        "\n",
        "def bfs(x, y):  # BFS 함수 정의\n",
        "    q = deque()\n",
        "    q.append((x, y))\n",
        "    visited[x][y] = True  # 시작 지점 방문 표시\n",
        "    union = [(x, y)]  # 연합을 이루는 국가들의 좌표\n",
        "\n",
        "    while q:\n",
        "        x, y = q.popleft()\n",
        "\n",
        "        for i in range(4):  # 상하좌우 이동\n",
        "            nx = dx[i] + x\n",
        "            ny = dy[i] + y\n",
        "\n",
        "            if 0 <= nx < N and 0 <= ny < N and not visited[nx][ny]:\n",
        "                if L <= abs(graph[nx][ny] - graph[x][y]) <= R:  # 인구 차이가 조건을 만족하면 abs->절대값\n",
        "                    q.append((nx, ny))\n",
        "                    visited[nx][ny] = True\n",
        "                    union.append((nx, ny))\n",
        "\n",
        "    return union  # 연합을 이루는 국가들의 좌표 반환\n",
        "\n",
        "\n",
        "\n",
        "while True:  # 인구 이동이 더 이상 없을 때까지 반복\n",
        "    visited = [[False] * N for _ in range(N)]\n",
        "    move = False  # 이번 라운드에서 인구 이동이 발생했는지 여부\n",
        "\n",
        "    for x in range(N):\n",
        "        for y in range(N):\n",
        "            if not visited[x][y]:\n",
        "                union = bfs(x, y)  # BFS를 통해 연합 찾기\n",
        "\n",
        "                if len(union) > 1:  # 연합을 이루는 국가가 2개 이상이면\n",
        "                    move = True\n",
        "                    population = sum(graph[i][j] for i, j in union) // len(union)  # 연합 인구 재분배\n",
        "\n",
        "                    for i, j in union:\n",
        "                        graph[i][j] = population  # 연합 인구 업데이트\n",
        "\n",
        "    if not move:  # 이동이 없으면 반복 종료\n",
        "        break\n",
        "    cnt += 1  # 인구 이동 횟수 증가\n",
        "\n",
        "print(cnt)\n"
      ]
    }
  ]
}