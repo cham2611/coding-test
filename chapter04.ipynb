{
  "nbformat": 4,
  "nbformat_minor": 0,
  "metadata": {
    "colab": {
      "provenance": []
    },
    "kernelspec": {
      "name": "python3",
      "display_name": "Python 3"
    },
    "language_info": {
      "name": "python"
    }
  },
  "cells": [
    {
      "cell_type": "code",
      "execution_count": 8,
      "metadata": {
        "colab": {
          "base_uri": "https://localhost:8080/"
        },
        "id": "li2ELUmGaPlt",
        "outputId": "7ea80dc9-7e3e-4e05-e166-c9fe23c282af"
      },
      "outputs": [
        {
          "output_type": "stream",
          "name": "stdout",
          "text": [
            "5\n",
            "R R R U D D\n",
            "3 4\n"
          ]
        }
      ],
      "source": [
        "#예제 4-1 상하좌우\n",
        "#input().split() 코드는 사용자로부터 입력받은 문자열을 공백을 기준으로 분리하여 리스트로 만듭니다\n",
        "#input() 함수 자체는 단순히 문자열을 반환\n",
        "n= int(input())\n",
        "x,y = 1,1\n",
        "plans = input().split()\n",
        "\n",
        "move_types=['L','R','U','D']\n",
        "dx=[0, 0, -1, 1]\n",
        "dy=[-1, 1, 0, 0]\n",
        "\n",
        "for i in plans:\n",
        "  for j in range(len(move_types)):\n",
        "    if i== move_types[j]:\n",
        "      nx=x+dx[j]\n",
        "      ny=y+dy[j]\n",
        "  if nx < 1 or nx > n or ny < 1 or ny > n:\n",
        "    continue\n",
        "  x,y = nx, ny\n",
        "\n",
        "print(x,y)"
      ]
    },
    {
      "cell_type": "code",
      "source": [
        "#예제 4-2 시각\n",
        "n = int(input())\n",
        "\n",
        "count = 0\n",
        "\n",
        "for i in range(n+1):\n",
        "  for j in range(60):\n",
        "    for k in range(60):\n",
        "      if '3' in str(i)+str(j)+str(k):\n",
        "        count+=1\n",
        "\n",
        "print(count)"
      ],
      "metadata": {
        "colab": {
          "base_uri": "https://localhost:8080/"
        },
        "id": "FhKHM6dMavGZ",
        "outputId": "c33294d6-b74f-48e5-c506-5fe2c0398688"
      },
      "execution_count": 2,
      "outputs": [
        {
          "output_type": "stream",
          "name": "stdout",
          "text": [
            "5\n",
            "11475\n"
          ]
        }
      ]
    },
    {
      "cell_type": "code",
      "source": [
        "#예제 4-3 왕실 나이트\n",
        "input_data = input()\n",
        "row = int(input_data[1])\n",
        "#ord(input_data)-> input_data 문자에 대한 ASCII(아스키) 코드 값을 반환 / 반환값은 이미 정수형\n",
        "col = int(ord(input_data[0])-ord('a'))+1\n",
        "\n",
        "steps=[(-2,-1),(-2,1),(2,1),(2,-1),(1,-2),(-1,-2),(1,2),(-1,2)]\n",
        "\n",
        "result = 0\n",
        "for i in steps:\n",
        "  next_row=row+i[0]\n",
        "  next_col=col+ i[1]\n",
        "\n",
        "  if next_row <=8 and  next_row >=1 and next_col <=8 and  next_col >=1:\n",
        "    result+=1\n",
        "print(result)"
      ],
      "metadata": {
        "colab": {
          "base_uri": "https://localhost:8080/"
        },
        "id": "1QUdnlEeavPM",
        "outputId": "ffc3baf0-8a4e-4cc8-fba0-2e9d2b6c3e1d"
      },
      "execution_count": 7,
      "outputs": [
        {
          "output_type": "stream",
          "name": "stdout",
          "text": [
            "a1\n",
            "2\n"
          ]
        }
      ]
    },
    {
      "cell_type": "code",
      "source": [
        "#예제 4-4 게임 개발\n",
        "n,m = map(int, input().split())\n",
        "\n",
        "#방문한 위치를 저장하기 위한 맵을 생성하여 0으로 초기화\n",
        "d = [[0]* m for _ in range(n)]\n",
        "\n",
        "# 현재 캐릭터 x, y, 방향 입력받기\n",
        "x,y, direction=map(int, input().split())\n",
        "\n",
        "#현재 좌표 방문처리\n",
        "d[x][y]=1\n",
        "\n",
        "array =[]\n",
        "#전체 맵 정보 입력받기\n",
        "for i in range(n):\n",
        "  array.append(list(map(int, input().split())))\n",
        "\n",
        "\n",
        "dx= [-1, 0, 1, 0]\n",
        "dy= [0, 1, 0, -1]\n",
        "\n",
        "#왼쪽 회전\n",
        "def turn_left():\n",
        "  global direction\n",
        "  direction-=1\n",
        "  if direction ==-1:\n",
        "    direction= 3\n",
        "\n",
        "#시뮬레이션\n",
        "count=1\n",
        "turn_time=0\n",
        "\n",
        "while True:\n",
        "  turn_left()\n",
        "  nx=x+dx[direction]\n",
        "  ny=y+dy[direction]\n",
        "\n",
        "  #회전한 이후 정면에 가보지 않은 칸이 존재하는 경우 이동\n",
        "  if d[nx][ny]==0 and array[nx][ny]==0:\n",
        "    d[nx][ny]=1\n",
        "    x=nx\n",
        "    y=ny\n",
        "    count+=1\n",
        "    turn_time=0\n",
        "    continue\n",
        "  #회전한 이후 정면에 가보지 않은 칸이 없거나 바다인 경우\n",
        "  else:\n",
        "    turn_time+=1\n",
        "\n",
        "  #네 방향 모두 갈 수 없는 경우\n",
        "  if turn_time==4:\n",
        "    nx = x - dx[direction]\n",
        "    ny = y - dy[direction]\n",
        "    # 뒤로 갈 수 있다면 이동하기\n",
        "    if array[nx][ny]==0 :\n",
        "      x= nx\n",
        "      y= ny\n",
        "    # 뒤가 바다로 막혀있는 경우\n",
        "    else :\n",
        "      break\n",
        "\n",
        "    turn_time=0\n",
        "\n",
        "print(count)\n",
        "\n",
        "\n"
      ],
      "metadata": {
        "colab": {
          "base_uri": "https://localhost:8080/"
        },
        "id": "vW5rZAwwbAK6",
        "outputId": "e26f37ef-b730-4c9a-c64d-8e94add291d1"
      },
      "execution_count": 11,
      "outputs": [
        {
          "output_type": "stream",
          "name": "stdout",
          "text": [
            "4 4\n",
            "1 1 0\n",
            "1 1 1 1\n",
            "1 0 0 1\n",
            "1 1 0 1\n",
            "1 1 1 1\n",
            "3\n"
          ]
        }
      ]
    }
  ]
}