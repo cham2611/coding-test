{
  "nbformat": 4,
  "nbformat_minor": 0,
  "metadata": {
    "colab": {
      "provenance": []
    },
    "kernelspec": {
      "name": "python3",
      "display_name": "Python 3"
    },
    "language_info": {
      "name": "python"
    }
  },
  "cells": [
    {
      "cell_type": "code",
      "execution_count": 5,
      "metadata": {
        "colab": {
          "base_uri": "https://localhost:8080/"
        },
        "id": "ndQWyq4GEclD",
        "outputId": "7dd61f7e-d5f4-45ed-b7eb-67d2d4582f9e"
      },
      "outputs": [
        {
          "output_type": "stream",
          "name": "stdout",
          "text": [
            "4 3 2 1\n",
            "1 2\n",
            "1 3\n",
            "1 4\n",
            "[-1, 0, 1, 1, 1]\n",
            "-1\n"
          ]
        }
      ],
      "source": [
        "# 특정 거리의 도시 찾기\n",
        "\n",
        "from collections import deque\n",
        "\n",
        "n, m, k ,x =map(int, input().split())\n",
        "\n",
        "g =[[] for _ in range(n+1)]\n",
        "\n",
        "for i in range(m):\n",
        "  a,b = map(int, input().split())\n",
        "  g[a].append(b)\n",
        "#  각 노드까지의 최단 거리를 저장할 리스트\n",
        "d = [-1]*(n+1) # 모든 노드에 대해 -1 초기화, 길이 n+1 -> 노드 번호는 일반적으로 1부터 시작하기 때문에\n",
        "d[x]=0 # 시작 노드의 거리는 0\n",
        "\n",
        "\n",
        "q = deque([x]) #시작노드\n",
        "while q:\n",
        "  now = q.popleft() # 현재 노드 pop\n",
        "\n",
        "  for i in g[now]: # 현재 갈 수 있는 모드 노드 탐색\n",
        "    if d[i] == -1: # 방문한적 없는 노드이면\n",
        "      d[i] = d[now]+1 # 현재 노드(now)에서 다음노드(i)로 이동할 때 i까지의 최단 거리는 now까지의 최단 거리에 1을 더한 값과 같다\n",
        "      q.append(i)\n",
        "\n",
        "print(d)\n",
        "\n",
        "if k in d:\n",
        "  for i in range(1, n+1):\n",
        "    if d[i]== k:\n",
        "      print(i)\n",
        "else:\n",
        "  print(-1)\n"
      ]
    },
    {
      "cell_type": "code",
      "source": [
        "# 연구소\n",
        "\n",
        "from collections import deque\n",
        "\n",
        "# 입력 처리\n",
        "n, m = map(int, input().split())\n",
        "graph = [list(map(int, input().split())) for _ in range(n)]\n",
        "temp_graph = [[0] * m for _ in range(n)] # 바이러스 퍼짐을 시뮬레이션할 임시 그래프\n",
        "\n",
        "dx = [-1, 1, 0, 0] # 상하좌우 이동을 위한 x 방향\n",
        "dy = [0, 0, -1, 1] # 상하좌우 이동을 위한 y 방향\n",
        "\n",
        "queue = deque() # BFS를 위한 큐\n",
        "result = 0 # 최대 안전 영역의 크기\n",
        "\n",
        "# 바이러스 퍼트리기\n",
        "def bfs():\n",
        "    while queue:\n",
        "        x, y = queue.popleft()\n",
        "        for k in range(4):\n",
        "            nx = x + dx[k]\n",
        "            ny = y + dy[k]\n",
        "\n",
        "            if 0 <= nx < n and 0 <= ny < m and temp_graph[nx][ny] == 0:\n",
        "                queue.append((nx, ny))\n",
        "                temp_graph[nx][ny] = 2\n",
        "\n",
        "# 벽 세우기 (재귀적으로 3개 세움)\n",
        "def makewall(cnt):\n",
        "    if cnt == 3: # 벽이 3개 세워지면 바이러스 퍼뜨리기 시작\n",
        "        for i in range(n):\n",
        "            for j in range(m):\n",
        "                temp_graph[i][j] = graph[i][j]\n",
        "                if temp_graph[i][j] == 2:\n",
        "                    queue.append((i, j))\n",
        "        bfs()\n",
        "\n",
        "        area = 0 # 안전 영역 계산\n",
        "        global result\n",
        "\n",
        "        for i in range(n):\n",
        "            area += temp_graph[i].count(0)\n",
        "\n",
        "        result = max(result, area) # 최대 안전 영역 갱신\n",
        "        return\n",
        "\n",
        "    for i in range(n):\n",
        "        for j in range(m):\n",
        "            if graph[i][j] == 0:\n",
        "                graph[i][j] = 1 # 벽 세우기\n",
        "                makewall(cnt+1) # 다음 벽 세우기\n",
        "                graph[i][j] = 0 # 원래 상태로 복원\n",
        "\n",
        "makewall(0)\n",
        "print(result)\n"
      ],
      "metadata": {
        "colab": {
          "base_uri": "https://localhost:8080/"
        },
        "id": "IMI9bBeHE5Yp",
        "outputId": "7fd92137-43e0-4de2-b8f4-0d54cc57cadb"
      },
      "execution_count": 6,
      "outputs": [
        {
          "output_type": "stream",
          "name": "stdout",
          "text": [
            "4 6\n",
            "0 0 0 0 0 0\n",
            "1 0 0 0 0 2\n",
            "1 1 1 0 0 2\n",
            "0 0 0 0 0 2\n",
            "9\n"
          ]
        }
      ]
    }
  ]
}