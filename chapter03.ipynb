{
  "nbformat": 4,
  "nbformat_minor": 0,
  "metadata": {
    "colab": {
      "provenance": []
    },
    "kernelspec": {
      "name": "python3",
      "display_name": "Python 3"
    },
    "language_info": {
      "name": "python"
    }
  },
  "cells": [
    {
      "cell_type": "code",
      "execution_count": 1,
      "metadata": {
        "colab": {
          "base_uri": "https://localhost:8080/"
        },
        "id": "LyWF55ox6N43",
        "outputId": "938a5f30-ebdd-4d8b-dac6-f47fca913e8a"
      },
      "outputs": [
        {
          "output_type": "stream",
          "name": "stdout",
          "text": [
            "6\n"
          ]
        }
      ],
      "source": [
        "#예제3-1 거스름돈\n",
        "n= 1260\n",
        "count=0\n",
        "\n",
        "coin_type=[500,100,50,10]\n",
        "\n",
        "for i in coin_type:\n",
        "  count += n//i\n",
        "  n%=i\n",
        "print(count)"
      ]
    },
    {
      "cell_type": "code",
      "source": [
        "#예제3-2 큰 수의 법칙\n",
        "n, m, k =map(int, input().split())\n",
        "# 5 8 3\n",
        "data = list(map(int, input().split()))\n",
        "# 2 4 5 4 6\n",
        "\n",
        "data.sort()\n",
        "# 2 4 4 5 6\n",
        "first = data[n-1]\n",
        "second = data[n-2]\n",
        "result = 0\n",
        "while True:\n",
        "  for i in range(k):\n",
        "    if m == 0:\n",
        "      break\n",
        "    result+= first\n",
        "    m-=1\n",
        "  if m==0:\n",
        "    break\n",
        "  result+=second\n",
        "  m-=1\n",
        "\n",
        "print(result)"
      ],
      "metadata": {
        "colab": {
          "base_uri": "https://localhost:8080/"
        },
        "id": "JgrK53lfN2Mm",
        "outputId": "977270ed-3239-415e-efee-38657498d2b9"
      },
      "execution_count": 2,
      "outputs": [
        {
          "output_type": "stream",
          "name": "stdout",
          "text": [
            "5 8 3\n",
            "2 4 5 4 6\n",
            "46\n"
          ]
        }
      ]
    },
    {
      "cell_type": "code",
      "source": [
        "#예제3-3 숫자 카드 게임\n",
        "n,m = map (int, input().split())\n",
        "\n",
        "result = 0\n",
        "\n",
        "for i in range(n):\n",
        "  data = list(map(int, input().split()))\n",
        "  min_value= min(data)\n",
        "  result = max(result, min_value)\n",
        "\n",
        "print(result)"
      ],
      "metadata": {
        "colab": {
          "base_uri": "https://localhost:8080/"
        },
        "id": "-3tPYzs_N2bZ",
        "outputId": "fab74d30-905a-4d34-9be4-41097c48b7bb"
      },
      "execution_count": 3,
      "outputs": [
        {
          "output_type": "stream",
          "name": "stdout",
          "text": [
            "3 3\n",
            "3 1 2\n",
            "4 1 4\n",
            "2 2 2\n",
            "2\n"
          ]
        }
      ]
    },
    {
      "cell_type": "code",
      "source": [
        "#예제3-4 1이 될 때까지\n",
        "n , k = map(int, input().split())\n",
        "\n",
        "result = 0\n",
        "\n",
        "while True:\n",
        "  if n == 1:\n",
        "    break\n",
        "  elif n%k == 0:\n",
        "    n=n//k\n",
        "    result+=1\n",
        "  else:\n",
        "    n-=1\n",
        "    result+=1\n",
        "\n",
        "print (result)"
      ],
      "metadata": {
        "colab": {
          "base_uri": "https://localhost:8080/"
        },
        "id": "_zWQvuv1N52A",
        "outputId": "54bff0f5-4f2e-4b25-f702-0a7a3f333295"
      },
      "execution_count": 6,
      "outputs": [
        {
          "output_type": "stream",
          "name": "stdout",
          "text": [
            "17 4\n",
            "3\n"
          ]
        }
      ]
    }
  ]
}